{
 "cells": [
  {
   "cell_type": "code",
   "execution_count": 16,
   "metadata": {},
   "outputs": [],
   "source": [
    "from datasets import load_dataset"
   ]
  },
  {
   "cell_type": "code",
   "execution_count": 18,
   "metadata": {},
   "outputs": [],
   "source": [
    "med_flash = load_dataset(\"medalpaca/medical_meadow_medical_flashcards\",split=\"train\")"
   ]
  },
  {
   "cell_type": "code",
   "execution_count": 3,
   "metadata": {},
   "outputs": [
    {
     "name": "stderr",
     "output_type": "stream",
     "text": [
      "Saving the dataset (1/1 shards): 100%|██████████| 33955/33955 [00:00<00:00, 1285473.35 examples/s]\n"
     ]
    }
   ],
   "source": [
    "dataset.save_to_disk(\"medical_meadow_medical_flashcards\")"
   ]
  },
  {
   "cell_type": "code",
   "execution_count": 19,
   "metadata": {},
   "outputs": [],
   "source": [
    "wikidoc = load_dataset(\"medalpaca/medical_meadow_wikidoc\",split=\"train[:10000]\")"
   ]
  },
  {
   "cell_type": "code",
   "execution_count": 13,
   "metadata": {},
   "outputs": [
    {
     "name": "stderr",
     "output_type": "stream",
     "text": [
      "\n",
      "\u001b[A\n",
      "Saving the dataset (1/1 shards): 100%|██████████| 10000/10000 [00:00<00:00, 667787.10 examples/s]\n"
     ]
    }
   ],
   "source": [
    "wikidoc.save_to_disk(\"medical_meadow_wikidoc\")"
   ]
  },
  {
   "cell_type": "code",
   "execution_count": 20,
   "metadata": {},
   "outputs": [],
   "source": [
    "patient = load_dataset(\"medalpaca/medical_meadow_wikidoc_patient_information\",split=\"train\")"
   ]
  },
  {
   "cell_type": "code",
   "execution_count": 21,
   "metadata": {},
   "outputs": [],
   "source": [
    "mediqa = load_dataset(\"medalpaca/medical_meadow_mediqa\",split=\"train\")"
   ]
  },
  {
   "cell_type": "code",
   "execution_count": 8,
   "metadata": {},
   "outputs": [
    {
     "name": "stderr",
     "output_type": "stream",
     "text": [
      "Saving the dataset (1/1 shards): 100%|██████████| 2208/2208 [00:00<00:00, 194318.45 examples/s]\n"
     ]
    }
   ],
   "source": [
    "mediqa.save_to_disk(\"mediqa\")"
   ]
  },
  {
   "cell_type": "code",
   "execution_count": 22,
   "metadata": {},
   "outputs": [],
   "source": [
    "cord19 = load_dataset(\"medalpaca/medical_meadow_cord19\",split=\"train[:20000]\")"
   ]
  },
  {
   "cell_type": "code",
   "execution_count": 15,
   "metadata": {},
   "outputs": [
    {
     "name": "stderr",
     "output_type": "stream",
     "text": [
      "\n",
      "\u001b[A\n",
      "Saving the dataset (1/1 shards): 100%|██████████| 20000/20000 [00:00<00:00, 962382.61 examples/s]\n"
     ]
    }
   ],
   "source": [
    "cord19.save_to_disk(\"cord19\")"
   ]
  },
  {
   "cell_type": "code",
   "execution_count": 23,
   "metadata": {},
   "outputs": [],
   "source": [
    "mmlu = load_dataset(\"medalpaca/medical_meadow_mmmlu\",split=\"train\")"
   ]
  },
  {
   "cell_type": "code",
   "execution_count": 11,
   "metadata": {},
   "outputs": [
    {
     "name": "stderr",
     "output_type": "stream",
     "text": [
      "\n",
      "\u001b[A\n",
      "Saving the dataset (1/1 shards): 100%|██████████| 3787/3787 [00:00<00:00, 323928.40 examples/s]\n"
     ]
    }
   ],
   "source": [
    "mmlu.save_to_disk(\"med_mmlu\")"
   ]
  },
  {
   "cell_type": "code",
   "execution_count": 24,
   "metadata": {},
   "outputs": [
    {
     "name": "stderr",
     "output_type": "stream",
     "text": [
      "\n",
      "Downloading readme: 100%|██████████| 920/920 [00:00<00:00, 2.73MB/s]\n",
      "\n",
      "\u001b[A\n",
      "\n",
      "\u001b[A\u001b[A\n",
      "\n",
      "Downloading data: 100%|██████████| 936k/936k [00:01<00:00, 908kB/s]\n",
      "\n",
      "Downloading data files: 100%|██████████| 1/1 [00:01<00:00,  1.62s/it]\n",
      "\n",
      "Extracting data files: 100%|██████████| 1/1 [00:00<00:00, 517.69it/s]\n",
      "\n",
      "Generating train split: 2446 examples [00:00, 120396.98 examples/s]\n"
     ]
    }
   ],
   "source": [
    "pubmed = load_dataset(\"medalpaca/medical_meadow_pubmed_causal\",split=\"train\")"
   ]
  },
  {
   "cell_type": "code",
   "execution_count": 25,
   "metadata": {},
   "outputs": [],
   "source": [
    "chatdoctor = load_dataset(\"LinhDuong/chatdoctor-200k\",split=\"train[:5%]\")"
   ]
  },
  {
   "cell_type": "code",
   "execution_count": 26,
   "metadata": {},
   "outputs": [],
   "source": [
    "from datasets import concatenate_datasets"
   ]
  },
  {
   "cell_type": "code",
   "execution_count": 29,
   "metadata": {},
   "outputs": [],
   "source": [
    "medical_dataset_merged = concatenate_datasets([med_flash,chatdoctor,wikidoc,patient, mediqa, cord19, mmlu, pubmed])"
   ]
  },
  {
   "cell_type": "code",
   "execution_count": 30,
   "metadata": {},
   "outputs": [
    {
     "data": {
      "text/plain": [
       "Dataset({\n",
       "    features: ['input', 'instruction', 'output'],\n",
       "    num_rows: 88708\n",
       "})"
      ]
     },
     "execution_count": 30,
     "metadata": {},
     "output_type": "execute_result"
    }
   ],
   "source": [
    "medical_dataset_merged"
   ]
  },
  {
   "cell_type": "code",
   "execution_count": 32,
   "metadata": {},
   "outputs": [
    {
     "name": "stderr",
     "output_type": "stream",
     "text": [
      "\n",
      "\u001b[A\n",
      "Saving the dataset (1/1 shards): 100%|██████████| 88708/88708 [00:00<00:00, 1873342.59 examples/s]\n"
     ]
    }
   ],
   "source": [
    "medical_dataset_merged.save_to_disk(\"medical_dataset_merged\")"
   ]
  },
  {
   "cell_type": "code",
   "execution_count": 34,
   "metadata": {},
   "outputs": [],
   "source": [
    "from datasets import load_from_disk"
   ]
  },
  {
   "cell_type": "code",
   "execution_count": 35,
   "metadata": {},
   "outputs": [],
   "source": [
    "med = load_from_disk(\"medical_dataset_merged\")"
   ]
  },
  {
   "cell_type": "code",
   "execution_count": 36,
   "metadata": {},
   "outputs": [
    {
     "data": {
      "text/plain": [
       "Dataset({\n",
       "    features: ['input', 'instruction', 'output'],\n",
       "    num_rows: 88708\n",
       "})"
      ]
     },
     "execution_count": 36,
     "metadata": {},
     "output_type": "execute_result"
    }
   ],
   "source": [
    "med"
   ]
  }
 ],
 "metadata": {
  "kernelspec": {
   "display_name": "finetune",
   "language": "python",
   "name": "python3"
  },
  "language_info": {
   "codemirror_mode": {
    "name": "ipython",
    "version": 3
   },
   "file_extension": ".py",
   "mimetype": "text/x-python",
   "name": "python",
   "nbconvert_exporter": "python",
   "pygments_lexer": "ipython3",
   "version": "3.10.0"
  },
  "orig_nbformat": 4
 },
 "nbformat": 4,
 "nbformat_minor": 2
}
