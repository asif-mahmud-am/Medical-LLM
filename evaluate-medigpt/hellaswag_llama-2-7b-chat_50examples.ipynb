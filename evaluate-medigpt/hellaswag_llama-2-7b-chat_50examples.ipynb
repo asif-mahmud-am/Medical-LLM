{
 "cells": [
  {
   "cell_type": "code",
   "execution_count": 1,
   "metadata": {},
   "outputs": [
    {
     "name": "stderr",
     "output_type": "stream",
     "text": [
      "/home/asif/anaconda3/envs/medalpaca/lib/python3.9/site-packages/tqdm/auto.py:21: TqdmWarning: IProgress not found. Please update jupyter and ipywidgets. See https://ipywidgets.readthedocs.io/en/stable/user_install.html\n",
      "  from .autonotebook import tqdm as notebook_tqdm\n"
     ]
    }
   ],
   "source": [
    "import os\n",
    "import bitsandbytes as bnb\n",
    "import pandas as pd\n",
    "import torch\n",
    "import torch.nn as nn\n",
    "import transformers\n",
    "from datasets import load_dataset\n",
    "from huggingface_hub import notebook_login\n",
    "from peft import (\n",
    "    LoraConfig,\n",
    "    PeftConfig,\n",
    "    get_peft_model,\n",
    "    prepare_model_for_kbit_training,\n",
    ")\n",
    "from transformers import (\n",
    "    AutoConfig,\n",
    "    AutoModelForCausalLM,\n",
    "    AutoTokenizer,\n",
    "    BitsAndBytesConfig,\n",
    ")"
   ]
  },
  {
   "cell_type": "code",
   "execution_count": 2,
   "metadata": {},
   "outputs": [],
   "source": [
    "from peft import *"
   ]
  },
  {
   "cell_type": "code",
   "execution_count": 3,
   "metadata": {},
   "outputs": [
    {
     "name": "stderr",
     "output_type": "stream",
     "text": [
      "Loading checkpoint shards: 100%|██████████| 2/2 [00:02<00:00,  1.07s/it]\n"
     ]
    }
   ],
   "source": [
    "model = AutoModelForCausalLM.from_pretrained(\n",
    "    # config.base_model_name_or_path,\n",
    "    \"/home/asif/llm/model/Llama-2-7b-chat-hf\",\n",
    "    load_in_8bit=True,\n",
    "    return_dict=True,\n",
    "    # quantization_config=bnb_config,\n",
    "    device_map=\"auto\",\n",
    "    trust_remote_code=True,\n",
    ")\n",
    "# tokenizer = AutoTokenizer.from_pretrained(config.base_model_name_or_path)\n",
    "tokenizer = AutoTokenizer.from_pretrained(\"/home/asif/llm/model/Llama-2-7b-chat-hf\")\n",
    "tokenizer.pad_token = tokenizer.eos_token"
   ]
  },
  {
   "cell_type": "markdown",
   "metadata": {},
   "source": [
    "Memory taken : 14GB "
   ]
  },
  {
   "cell_type": "code",
   "execution_count": 4,
   "metadata": {},
   "outputs": [],
   "source": [
    "generation_config = model.generation_config\n",
    "generation_config.max_new_tokens = 400\n",
    "generation_config_temperature = 0.3\n",
    "generation_config.top_p = 0.9\n",
    "generation_config.num_return_sequences = 1\n",
    "generation_config.pad_token_id = tokenizer.eos_token_id\n",
    "generation_config_eod_token_id = tokenizer.eos_token_id"
   ]
  },
  {
   "cell_type": "code",
   "execution_count": 5,
   "metadata": {},
   "outputs": [],
   "source": [
    "DEVICE = \"cuda\""
   ]
  },
  {
   "cell_type": "code",
   "execution_count": 41,
   "metadata": {},
   "outputs": [],
   "source": [
    "def generate_response(ctx: str, options: str) -> str:\n",
    "    prompt = f\"\"\"Context: You are a medical expert who can answer medical related queries. Given the ctx, determine which of the options is correct according to medical science. There are 4 options. Chose the correct one. Answer with only 0,1,2 or 3.\n",
    "\n",
    "ctx: \n",
    "{ctx}\n",
    "\n",
    "options:\n",
    "{options}\n",
    "\n",
    "reply: \n",
    "    \"\"\".strip()\n",
    "    encoding = tokenizer(prompt, return_tensors=\"pt\").to(DEVICE)\n",
    "    with torch.inference_mode():\n",
    "        outputs = model.generate(\n",
    "            input_ids=encoding.input_ids,\n",
    "            attention_mask=encoding.attention_mask,\n",
    "            generation_config=generation_config,\n",
    "        )\n",
    "    response = tokenizer.decode(outputs[0],skip_special_tokens=True)\n",
    "\n",
    "    # assistant_start = '<assistant>:'\n",
    "    # response_start = response.find(assistant_start)\n",
    "    # return response[response_start + len(assistant_start):].strip()\n",
    "    return response"
   ]
  },
  {
   "cell_type": "code",
   "execution_count": 42,
   "metadata": {},
   "outputs": [
    {
     "name": "stdout",
     "output_type": "stream",
     "text": [
      "Context: You are a medical expert who can answer medical related queries. Given the ctx, determine which of the options is correct according to medical science. There are 4 options. Chose the correct one. Answer with only 0,1,2 or 3.\n",
      "\n",
      "ctx: \n",
      "The patient came to the doctor complaining of a persistent headache for the past week.\n",
      "\n",
      "options:\n",
      "0: 'The doctor recommended a brain scan to rule out any underlying issues', 1: 'The patient was advised to take painkillers and get plenty of rest', 2: 'The doctor suggested trying acupuncture as an alternative treatment', 3: 'The patient was referred to a neurologist for further examination'\n",
      "\n",
      "reply:\n",
      "The correct answer is (3) The patient was referred to a neurologist for further examination.\n"
     ]
    }
   ],
   "source": [
    "print(generate_response(\"The patient came to the doctor complaining of a persistent headache for the past week.\",\"0: 'The doctor recommended a brain scan to rule out any underlying issues', 1: 'The patient was advised to take painkillers and get plenty of rest', 2: 'The doctor suggested trying acupuncture as an alternative treatment', 3: 'The patient was referred to a neurologist for further examination'\"))"
   ]
  },
  {
   "cell_type": "markdown",
   "metadata": {},
   "source": [
    "Output: 3 ===== Original: 0"
   ]
  },
  {
   "cell_type": "code",
   "execution_count": 44,
   "metadata": {},
   "outputs": [
    {
     "name": "stdout",
     "output_type": "stream",
     "text": [
      "Context: You are a medical expert who can answer medical related queries. Given the ctx, determine which of the options is correct according to medical science. There are 4 options. Chose the correct one. Answer with only 0,1,2 or 3.\n",
      "\n",
      "ctx: \n",
      "A young child has been experiencing a cough, runny nose, and sneezing for the past two days.\n",
      "\n",
      "options:\n",
      "0: 'The doctor prescribed a cough syrup and advised plenty of fluids', 1: 'The child should avoid exposure to cold temperatures and rest', 2: 'Nasal saline drops can help relieve congestion', 3: 'The doctor recommended a throat swab for a strep test'\n",
      "\n",
      "reply:\n",
      "\n",
      "The correct answer is:\n",
      "\n",
      "0\n"
     ]
    }
   ],
   "source": [
    "print(generate_response(\"A young child has been experiencing a cough, runny nose, and sneezing for the past two days.\",\"0: 'The doctor prescribed a cough syrup and advised plenty of fluids', 1: 'The child should avoid exposure to cold temperatures and rest', 2: 'Nasal saline drops can help relieve congestion', 3: 'The doctor recommended a throat swab for a strep test'\"))"
   ]
  },
  {
   "cell_type": "markdown",
   "metadata": {},
   "source": [
    "Output: 0 ========= Original: 0"
   ]
  },
  {
   "cell_type": "code",
   "execution_count": 45,
   "metadata": {},
   "outputs": [
    {
     "name": "stdout",
     "output_type": "stream",
     "text": [
      "Context: You are a medical expert who can answer medical related queries. Given the ctx, determine which of the options is correct according to medical science. There are 4 options. Chose the correct one. Answer with only 0,1,2 or 3.\n",
      "\n",
      "ctx: \n",
      "A woman went to an allergist to determine the cause of her frequent allergic reactions and skin rashes.\n",
      "\n",
      "options:\n",
      "0: 'The allergist suggested conducting an allergy panel test', 1: 'The woman was advised to keep a diary of potential triggers', 2: 'Antihistamine medication can help alleviate symptoms', 3: 'The allergist recommended using hypoallergenic skincare products'\n",
      "\n",
      "reply:\n",
      "\n",
      "0\n"
     ]
    }
   ],
   "source": [
    "print(generate_response(\"A woman went to an allergist to determine the cause of her frequent allergic reactions and skin rashes.\",\"0: 'The allergist suggested conducting an allergy panel test', 1: 'The woman was advised to keep a diary of potential triggers', 2: 'Antihistamine medication can help alleviate symptoms', 3: 'The allergist recommended using hypoallergenic skincare products'\"))"
   ]
  },
  {
   "cell_type": "markdown",
   "metadata": {},
   "source": [
    "Output: 0 ====== Original: 1"
   ]
  },
  {
   "cell_type": "code",
   "execution_count": 46,
   "metadata": {},
   "outputs": [
    {
     "name": "stdout",
     "output_type": "stream",
     "text": [
      "Context: You are a medical expert who can answer medical related queries. Given the ctx, determine which of the options is correct according to medical science. There are 4 options. Chose the correct one. Answer with only 0,1,2 or 3.\n",
      "\n",
      "ctx: \n",
      "The patient visited the clinic for a routine check-up to monitor blood sugar levels and discuss diabetes management.\n",
      "\n",
      "options:\n",
      "0: 'The doctor recommended regular exercise and a balanced diet', 1: 'The patient should monitor blood sugar levels multiple times a day', 2: 'Insulin injections may be necessary to regulate glucose levels', 3: 'The doctor advised scheduling an appointment with a nutritionist'}\n",
      "\n",
      "reply:\n",
      "The correct answer is (2) Insulin injections may be necessary to regulate glucose levels.\n"
     ]
    }
   ],
   "source": [
    "print(generate_response(\"The patient visited the clinic for a routine check-up to monitor blood sugar levels and discuss diabetes management.\",\"0: 'The doctor recommended regular exercise and a balanced diet', 1: 'The patient should monitor blood sugar levels multiple times a day', 2: 'Insulin injections may be necessary to regulate glucose levels', 3: 'The doctor advised scheduling an appointment with a nutritionist'}\"))"
   ]
  },
  {
   "cell_type": "markdown",
   "metadata": {},
   "source": [
    "Output: 2 ====== Original 3"
   ]
  },
  {
   "cell_type": "code",
   "execution_count": 48,
   "metadata": {},
   "outputs": [
    {
     "ename": "KeyboardInterrupt",
     "evalue": "",
     "output_type": "error",
     "traceback": [
      "\u001b[0;31m---------------------------------------------------------------------------\u001b[0m",
      "\u001b[0;31mKeyboardInterrupt\u001b[0m                         Traceback (most recent call last)",
      "Cell \u001b[0;32mIn[48], line 1\u001b[0m\n\u001b[0;32m----> 1\u001b[0m \u001b[39mprint\u001b[39m(generate_response(\u001b[39m\"\u001b[39;49m\u001b[39mA man with asthma visited the pulmonologist to adjust his medication and address recent breathing difficulties.\u001b[39;49m\u001b[39m\"\u001b[39;49m,\u001b[39m\"\u001b[39;49m\u001b[39m0: \u001b[39;49m\u001b[39m'\u001b[39;49m\u001b[39mThe pulmonologist prescribed a stronger bronchodilator for immediate relief\u001b[39;49m\u001b[39m'\u001b[39;49m\u001b[39m, 1: \u001b[39;49m\u001b[39m'\u001b[39;49m\u001b[39mThe man was advised to use a peak flow meter to monitor lung function\u001b[39;49m\u001b[39m'\u001b[39;49m\u001b[39m, 2: \u001b[39;49m\u001b[39m'\u001b[39;49m\u001b[39mInhaled corticosteroids should be taken daily for long-term control\u001b[39;49m\u001b[39m'\u001b[39;49m\u001b[39m, 3: \u001b[39;49m\u001b[39m'\u001b[39;49m\u001b[39mThe doctor recommended avoiding triggers such as smoke and pet dander\u001b[39;49m\u001b[39m'\u001b[39;49m\u001b[39m\"\u001b[39;49m))\n",
      "Cell \u001b[0;32mIn[41], line 14\u001b[0m, in \u001b[0;36mgenerate_response\u001b[0;34m(ctx, options)\u001b[0m\n\u001b[1;32m     12\u001b[0m encoding \u001b[39m=\u001b[39m tokenizer(prompt, return_tensors\u001b[39m=\u001b[39m\u001b[39m\"\u001b[39m\u001b[39mpt\u001b[39m\u001b[39m\"\u001b[39m)\u001b[39m.\u001b[39mto(DEVICE)\n\u001b[1;32m     13\u001b[0m \u001b[39mwith\u001b[39;00m torch\u001b[39m.\u001b[39minference_mode():\n\u001b[0;32m---> 14\u001b[0m     outputs \u001b[39m=\u001b[39m model\u001b[39m.\u001b[39;49mgenerate(\n\u001b[1;32m     15\u001b[0m         input_ids\u001b[39m=\u001b[39;49mencoding\u001b[39m.\u001b[39;49minput_ids,\n\u001b[1;32m     16\u001b[0m         attention_mask\u001b[39m=\u001b[39;49mencoding\u001b[39m.\u001b[39;49mattention_mask,\n\u001b[1;32m     17\u001b[0m         generation_config\u001b[39m=\u001b[39;49mgeneration_config,\n\u001b[1;32m     18\u001b[0m     )\n\u001b[1;32m     19\u001b[0m response \u001b[39m=\u001b[39m tokenizer\u001b[39m.\u001b[39mdecode(outputs[\u001b[39m0\u001b[39m],skip_special_tokens\u001b[39m=\u001b[39m\u001b[39mTrue\u001b[39;00m)\n\u001b[1;32m     21\u001b[0m \u001b[39m# assistant_start = '<assistant>:'\u001b[39;00m\n\u001b[1;32m     22\u001b[0m \u001b[39m# response_start = response.find(assistant_start)\u001b[39;00m\n\u001b[1;32m     23\u001b[0m \u001b[39m# return response[response_start + len(assistant_start):].strip()\u001b[39;00m\n",
      "File \u001b[0;32m~/anaconda3/envs/medalpaca/lib/python3.9/site-packages/torch/utils/_contextlib.py:115\u001b[0m, in \u001b[0;36mcontext_decorator.<locals>.decorate_context\u001b[0;34m(*args, **kwargs)\u001b[0m\n\u001b[1;32m    112\u001b[0m \u001b[39m@functools\u001b[39m\u001b[39m.\u001b[39mwraps(func)\n\u001b[1;32m    113\u001b[0m \u001b[39mdef\u001b[39;00m \u001b[39mdecorate_context\u001b[39m(\u001b[39m*\u001b[39margs, \u001b[39m*\u001b[39m\u001b[39m*\u001b[39mkwargs):\n\u001b[1;32m    114\u001b[0m     \u001b[39mwith\u001b[39;00m ctx_factory():\n\u001b[0;32m--> 115\u001b[0m         \u001b[39mreturn\u001b[39;00m func(\u001b[39m*\u001b[39;49margs, \u001b[39m*\u001b[39;49m\u001b[39m*\u001b[39;49mkwargs)\n",
      "File \u001b[0;32m~/anaconda3/envs/medalpaca/lib/python3.9/site-packages/transformers/generation/utils.py:1538\u001b[0m, in \u001b[0;36mGenerationMixin.generate\u001b[0;34m(self, inputs, generation_config, logits_processor, stopping_criteria, prefix_allowed_tokens_fn, synced_gpus, assistant_model, streamer, **kwargs)\u001b[0m\n\u001b[1;32m   1532\u001b[0m         \u001b[39mraise\u001b[39;00m \u001b[39mValueError\u001b[39;00m(\n\u001b[1;32m   1533\u001b[0m             \u001b[39m\"\u001b[39m\u001b[39mnum_return_sequences has to be 1 when doing greedy search, \u001b[39m\u001b[39m\"\u001b[39m\n\u001b[1;32m   1534\u001b[0m             \u001b[39mf\u001b[39m\u001b[39m\"\u001b[39m\u001b[39mbut is \u001b[39m\u001b[39m{\u001b[39;00mgeneration_config\u001b[39m.\u001b[39mnum_return_sequences\u001b[39m}\u001b[39;00m\u001b[39m.\u001b[39m\u001b[39m\"\u001b[39m\n\u001b[1;32m   1535\u001b[0m         )\n\u001b[1;32m   1537\u001b[0m     \u001b[39m# 11. run greedy search\u001b[39;00m\n\u001b[0;32m-> 1538\u001b[0m     \u001b[39mreturn\u001b[39;00m \u001b[39mself\u001b[39;49m\u001b[39m.\u001b[39;49mgreedy_search(\n\u001b[1;32m   1539\u001b[0m         input_ids,\n\u001b[1;32m   1540\u001b[0m         logits_processor\u001b[39m=\u001b[39;49mlogits_processor,\n\u001b[1;32m   1541\u001b[0m         stopping_criteria\u001b[39m=\u001b[39;49mstopping_criteria,\n\u001b[1;32m   1542\u001b[0m         pad_token_id\u001b[39m=\u001b[39;49mgeneration_config\u001b[39m.\u001b[39;49mpad_token_id,\n\u001b[1;32m   1543\u001b[0m         eos_token_id\u001b[39m=\u001b[39;49mgeneration_config\u001b[39m.\u001b[39;49meos_token_id,\n\u001b[1;32m   1544\u001b[0m         output_scores\u001b[39m=\u001b[39;49mgeneration_config\u001b[39m.\u001b[39;49moutput_scores,\n\u001b[1;32m   1545\u001b[0m         return_dict_in_generate\u001b[39m=\u001b[39;49mgeneration_config\u001b[39m.\u001b[39;49mreturn_dict_in_generate,\n\u001b[1;32m   1546\u001b[0m         synced_gpus\u001b[39m=\u001b[39;49msynced_gpus,\n\u001b[1;32m   1547\u001b[0m         streamer\u001b[39m=\u001b[39;49mstreamer,\n\u001b[1;32m   1548\u001b[0m         \u001b[39m*\u001b[39;49m\u001b[39m*\u001b[39;49mmodel_kwargs,\n\u001b[1;32m   1549\u001b[0m     )\n\u001b[1;32m   1551\u001b[0m \u001b[39melif\u001b[39;00m is_contrastive_search_gen_mode:\n\u001b[1;32m   1552\u001b[0m     \u001b[39mif\u001b[39;00m generation_config\u001b[39m.\u001b[39mnum_return_sequences \u001b[39m>\u001b[39m \u001b[39m1\u001b[39m:\n",
      "File \u001b[0;32m~/anaconda3/envs/medalpaca/lib/python3.9/site-packages/transformers/generation/utils.py:2431\u001b[0m, in \u001b[0;36mGenerationMixin.greedy_search\u001b[0;34m(self, input_ids, logits_processor, stopping_criteria, max_length, pad_token_id, eos_token_id, output_attentions, output_hidden_states, output_scores, return_dict_in_generate, synced_gpus, streamer, **model_kwargs)\u001b[0m\n\u001b[1;32m   2428\u001b[0m model_inputs \u001b[39m=\u001b[39m \u001b[39mself\u001b[39m\u001b[39m.\u001b[39mprepare_inputs_for_generation(input_ids, \u001b[39m*\u001b[39m\u001b[39m*\u001b[39mmodel_kwargs)\n\u001b[1;32m   2430\u001b[0m \u001b[39m# forward pass to get next token\u001b[39;00m\n\u001b[0;32m-> 2431\u001b[0m outputs \u001b[39m=\u001b[39m \u001b[39mself\u001b[39;49m(\n\u001b[1;32m   2432\u001b[0m     \u001b[39m*\u001b[39;49m\u001b[39m*\u001b[39;49mmodel_inputs,\n\u001b[1;32m   2433\u001b[0m     return_dict\u001b[39m=\u001b[39;49m\u001b[39mTrue\u001b[39;49;00m,\n\u001b[1;32m   2434\u001b[0m     output_attentions\u001b[39m=\u001b[39;49moutput_attentions,\n\u001b[1;32m   2435\u001b[0m     output_hidden_states\u001b[39m=\u001b[39;49moutput_hidden_states,\n\u001b[1;32m   2436\u001b[0m )\n\u001b[1;32m   2438\u001b[0m \u001b[39mif\u001b[39;00m synced_gpus \u001b[39mand\u001b[39;00m this_peer_finished:\n\u001b[1;32m   2439\u001b[0m     \u001b[39mcontinue\u001b[39;00m  \u001b[39m# don't waste resources running the code we don't need\u001b[39;00m\n",
      "File \u001b[0;32m~/anaconda3/envs/medalpaca/lib/python3.9/site-packages/torch/nn/modules/module.py:1501\u001b[0m, in \u001b[0;36mModule._call_impl\u001b[0;34m(self, *args, **kwargs)\u001b[0m\n\u001b[1;32m   1496\u001b[0m \u001b[39m# If we don't have any hooks, we want to skip the rest of the logic in\u001b[39;00m\n\u001b[1;32m   1497\u001b[0m \u001b[39m# this function, and just call forward.\u001b[39;00m\n\u001b[1;32m   1498\u001b[0m \u001b[39mif\u001b[39;00m \u001b[39mnot\u001b[39;00m (\u001b[39mself\u001b[39m\u001b[39m.\u001b[39m_backward_hooks \u001b[39mor\u001b[39;00m \u001b[39mself\u001b[39m\u001b[39m.\u001b[39m_backward_pre_hooks \u001b[39mor\u001b[39;00m \u001b[39mself\u001b[39m\u001b[39m.\u001b[39m_forward_hooks \u001b[39mor\u001b[39;00m \u001b[39mself\u001b[39m\u001b[39m.\u001b[39m_forward_pre_hooks\n\u001b[1;32m   1499\u001b[0m         \u001b[39mor\u001b[39;00m _global_backward_pre_hooks \u001b[39mor\u001b[39;00m _global_backward_hooks\n\u001b[1;32m   1500\u001b[0m         \u001b[39mor\u001b[39;00m _global_forward_hooks \u001b[39mor\u001b[39;00m _global_forward_pre_hooks):\n\u001b[0;32m-> 1501\u001b[0m     \u001b[39mreturn\u001b[39;00m forward_call(\u001b[39m*\u001b[39;49margs, \u001b[39m*\u001b[39;49m\u001b[39m*\u001b[39;49mkwargs)\n\u001b[1;32m   1502\u001b[0m \u001b[39m# Do not call functions when jit is used\u001b[39;00m\n\u001b[1;32m   1503\u001b[0m full_backward_hooks, non_full_backward_hooks \u001b[39m=\u001b[39m [], []\n",
      "File \u001b[0;32m~/anaconda3/envs/medalpaca/lib/python3.9/site-packages/accelerate/hooks.py:165\u001b[0m, in \u001b[0;36madd_hook_to_module.<locals>.new_forward\u001b[0;34m(*args, **kwargs)\u001b[0m\n\u001b[1;32m    163\u001b[0m         output \u001b[39m=\u001b[39m old_forward(\u001b[39m*\u001b[39margs, \u001b[39m*\u001b[39m\u001b[39m*\u001b[39mkwargs)\n\u001b[1;32m    164\u001b[0m \u001b[39melse\u001b[39;00m:\n\u001b[0;32m--> 165\u001b[0m     output \u001b[39m=\u001b[39m old_forward(\u001b[39m*\u001b[39;49margs, \u001b[39m*\u001b[39;49m\u001b[39m*\u001b[39;49mkwargs)\n\u001b[1;32m    166\u001b[0m \u001b[39mreturn\u001b[39;00m module\u001b[39m.\u001b[39m_hf_hook\u001b[39m.\u001b[39mpost_forward(module, output)\n",
      "File \u001b[0;32m~/anaconda3/envs/medalpaca/lib/python3.9/site-packages/transformers/models/llama/modeling_llama.py:810\u001b[0m, in \u001b[0;36mLlamaForCausalLM.forward\u001b[0;34m(self, input_ids, attention_mask, position_ids, past_key_values, inputs_embeds, labels, use_cache, output_attentions, output_hidden_states, return_dict)\u001b[0m\n\u001b[1;32m    807\u001b[0m return_dict \u001b[39m=\u001b[39m return_dict \u001b[39mif\u001b[39;00m return_dict \u001b[39mis\u001b[39;00m \u001b[39mnot\u001b[39;00m \u001b[39mNone\u001b[39;00m \u001b[39melse\u001b[39;00m \u001b[39mself\u001b[39m\u001b[39m.\u001b[39mconfig\u001b[39m.\u001b[39muse_return_dict\n\u001b[1;32m    809\u001b[0m \u001b[39m# decoder outputs consists of (dec_features, layer_state, dec_hidden, dec_attn)\u001b[39;00m\n\u001b[0;32m--> 810\u001b[0m outputs \u001b[39m=\u001b[39m \u001b[39mself\u001b[39;49m\u001b[39m.\u001b[39;49mmodel(\n\u001b[1;32m    811\u001b[0m     input_ids\u001b[39m=\u001b[39;49minput_ids,\n\u001b[1;32m    812\u001b[0m     attention_mask\u001b[39m=\u001b[39;49mattention_mask,\n\u001b[1;32m    813\u001b[0m     position_ids\u001b[39m=\u001b[39;49mposition_ids,\n\u001b[1;32m    814\u001b[0m     past_key_values\u001b[39m=\u001b[39;49mpast_key_values,\n\u001b[1;32m    815\u001b[0m     inputs_embeds\u001b[39m=\u001b[39;49minputs_embeds,\n\u001b[1;32m    816\u001b[0m     use_cache\u001b[39m=\u001b[39;49muse_cache,\n\u001b[1;32m    817\u001b[0m     output_attentions\u001b[39m=\u001b[39;49moutput_attentions,\n\u001b[1;32m    818\u001b[0m     output_hidden_states\u001b[39m=\u001b[39;49moutput_hidden_states,\n\u001b[1;32m    819\u001b[0m     return_dict\u001b[39m=\u001b[39;49mreturn_dict,\n\u001b[1;32m    820\u001b[0m )\n\u001b[1;32m    822\u001b[0m hidden_states \u001b[39m=\u001b[39m outputs[\u001b[39m0\u001b[39m]\n\u001b[1;32m    823\u001b[0m \u001b[39mif\u001b[39;00m \u001b[39mself\u001b[39m\u001b[39m.\u001b[39mconfig\u001b[39m.\u001b[39mpretraining_tp \u001b[39m>\u001b[39m \u001b[39m1\u001b[39m:\n",
      "File \u001b[0;32m~/anaconda3/envs/medalpaca/lib/python3.9/site-packages/torch/nn/modules/module.py:1501\u001b[0m, in \u001b[0;36mModule._call_impl\u001b[0;34m(self, *args, **kwargs)\u001b[0m\n\u001b[1;32m   1496\u001b[0m \u001b[39m# If we don't have any hooks, we want to skip the rest of the logic in\u001b[39;00m\n\u001b[1;32m   1497\u001b[0m \u001b[39m# this function, and just call forward.\u001b[39;00m\n\u001b[1;32m   1498\u001b[0m \u001b[39mif\u001b[39;00m \u001b[39mnot\u001b[39;00m (\u001b[39mself\u001b[39m\u001b[39m.\u001b[39m_backward_hooks \u001b[39mor\u001b[39;00m \u001b[39mself\u001b[39m\u001b[39m.\u001b[39m_backward_pre_hooks \u001b[39mor\u001b[39;00m \u001b[39mself\u001b[39m\u001b[39m.\u001b[39m_forward_hooks \u001b[39mor\u001b[39;00m \u001b[39mself\u001b[39m\u001b[39m.\u001b[39m_forward_pre_hooks\n\u001b[1;32m   1499\u001b[0m         \u001b[39mor\u001b[39;00m _global_backward_pre_hooks \u001b[39mor\u001b[39;00m _global_backward_hooks\n\u001b[1;32m   1500\u001b[0m         \u001b[39mor\u001b[39;00m _global_forward_hooks \u001b[39mor\u001b[39;00m _global_forward_pre_hooks):\n\u001b[0;32m-> 1501\u001b[0m     \u001b[39mreturn\u001b[39;00m forward_call(\u001b[39m*\u001b[39;49margs, \u001b[39m*\u001b[39;49m\u001b[39m*\u001b[39;49mkwargs)\n\u001b[1;32m   1502\u001b[0m \u001b[39m# Do not call functions when jit is used\u001b[39;00m\n\u001b[1;32m   1503\u001b[0m full_backward_hooks, non_full_backward_hooks \u001b[39m=\u001b[39m [], []\n",
      "File \u001b[0;32m~/anaconda3/envs/medalpaca/lib/python3.9/site-packages/accelerate/hooks.py:165\u001b[0m, in \u001b[0;36madd_hook_to_module.<locals>.new_forward\u001b[0;34m(*args, **kwargs)\u001b[0m\n\u001b[1;32m    163\u001b[0m         output \u001b[39m=\u001b[39m old_forward(\u001b[39m*\u001b[39margs, \u001b[39m*\u001b[39m\u001b[39m*\u001b[39mkwargs)\n\u001b[1;32m    164\u001b[0m \u001b[39melse\u001b[39;00m:\n\u001b[0;32m--> 165\u001b[0m     output \u001b[39m=\u001b[39m old_forward(\u001b[39m*\u001b[39;49margs, \u001b[39m*\u001b[39;49m\u001b[39m*\u001b[39;49mkwargs)\n\u001b[1;32m    166\u001b[0m \u001b[39mreturn\u001b[39;00m module\u001b[39m.\u001b[39m_hf_hook\u001b[39m.\u001b[39mpost_forward(module, output)\n",
      "File \u001b[0;32m~/anaconda3/envs/medalpaca/lib/python3.9/site-packages/transformers/models/llama/modeling_llama.py:698\u001b[0m, in \u001b[0;36mLlamaModel.forward\u001b[0;34m(self, input_ids, attention_mask, position_ids, past_key_values, inputs_embeds, use_cache, output_attentions, output_hidden_states, return_dict)\u001b[0m\n\u001b[1;32m    690\u001b[0m     layer_outputs \u001b[39m=\u001b[39m torch\u001b[39m.\u001b[39mutils\u001b[39m.\u001b[39mcheckpoint\u001b[39m.\u001b[39mcheckpoint(\n\u001b[1;32m    691\u001b[0m         create_custom_forward(decoder_layer),\n\u001b[1;32m    692\u001b[0m         hidden_states,\n\u001b[0;32m   (...)\u001b[0m\n\u001b[1;32m    695\u001b[0m         \u001b[39mNone\u001b[39;00m,\n\u001b[1;32m    696\u001b[0m     )\n\u001b[1;32m    697\u001b[0m \u001b[39melse\u001b[39;00m:\n\u001b[0;32m--> 698\u001b[0m     layer_outputs \u001b[39m=\u001b[39m decoder_layer(\n\u001b[1;32m    699\u001b[0m         hidden_states,\n\u001b[1;32m    700\u001b[0m         attention_mask\u001b[39m=\u001b[39;49mattention_mask,\n\u001b[1;32m    701\u001b[0m         position_ids\u001b[39m=\u001b[39;49mposition_ids,\n\u001b[1;32m    702\u001b[0m         past_key_value\u001b[39m=\u001b[39;49mpast_key_value,\n\u001b[1;32m    703\u001b[0m         output_attentions\u001b[39m=\u001b[39;49moutput_attentions,\n\u001b[1;32m    704\u001b[0m         use_cache\u001b[39m=\u001b[39;49muse_cache,\n\u001b[1;32m    705\u001b[0m     )\n\u001b[1;32m    707\u001b[0m hidden_states \u001b[39m=\u001b[39m layer_outputs[\u001b[39m0\u001b[39m]\n\u001b[1;32m    709\u001b[0m \u001b[39mif\u001b[39;00m use_cache:\n",
      "File \u001b[0;32m~/anaconda3/envs/medalpaca/lib/python3.9/site-packages/torch/nn/modules/module.py:1501\u001b[0m, in \u001b[0;36mModule._call_impl\u001b[0;34m(self, *args, **kwargs)\u001b[0m\n\u001b[1;32m   1496\u001b[0m \u001b[39m# If we don't have any hooks, we want to skip the rest of the logic in\u001b[39;00m\n\u001b[1;32m   1497\u001b[0m \u001b[39m# this function, and just call forward.\u001b[39;00m\n\u001b[1;32m   1498\u001b[0m \u001b[39mif\u001b[39;00m \u001b[39mnot\u001b[39;00m (\u001b[39mself\u001b[39m\u001b[39m.\u001b[39m_backward_hooks \u001b[39mor\u001b[39;00m \u001b[39mself\u001b[39m\u001b[39m.\u001b[39m_backward_pre_hooks \u001b[39mor\u001b[39;00m \u001b[39mself\u001b[39m\u001b[39m.\u001b[39m_forward_hooks \u001b[39mor\u001b[39;00m \u001b[39mself\u001b[39m\u001b[39m.\u001b[39m_forward_pre_hooks\n\u001b[1;32m   1499\u001b[0m         \u001b[39mor\u001b[39;00m _global_backward_pre_hooks \u001b[39mor\u001b[39;00m _global_backward_hooks\n\u001b[1;32m   1500\u001b[0m         \u001b[39mor\u001b[39;00m _global_forward_hooks \u001b[39mor\u001b[39;00m _global_forward_pre_hooks):\n\u001b[0;32m-> 1501\u001b[0m     \u001b[39mreturn\u001b[39;00m forward_call(\u001b[39m*\u001b[39;49margs, \u001b[39m*\u001b[39;49m\u001b[39m*\u001b[39;49mkwargs)\n\u001b[1;32m   1502\u001b[0m \u001b[39m# Do not call functions when jit is used\u001b[39;00m\n\u001b[1;32m   1503\u001b[0m full_backward_hooks, non_full_backward_hooks \u001b[39m=\u001b[39m [], []\n",
      "File \u001b[0;32m~/anaconda3/envs/medalpaca/lib/python3.9/site-packages/accelerate/hooks.py:165\u001b[0m, in \u001b[0;36madd_hook_to_module.<locals>.new_forward\u001b[0;34m(*args, **kwargs)\u001b[0m\n\u001b[1;32m    163\u001b[0m         output \u001b[39m=\u001b[39m old_forward(\u001b[39m*\u001b[39margs, \u001b[39m*\u001b[39m\u001b[39m*\u001b[39mkwargs)\n\u001b[1;32m    164\u001b[0m \u001b[39melse\u001b[39;00m:\n\u001b[0;32m--> 165\u001b[0m     output \u001b[39m=\u001b[39m old_forward(\u001b[39m*\u001b[39;49margs, \u001b[39m*\u001b[39;49m\u001b[39m*\u001b[39;49mkwargs)\n\u001b[1;32m    166\u001b[0m \u001b[39mreturn\u001b[39;00m module\u001b[39m.\u001b[39m_hf_hook\u001b[39m.\u001b[39mpost_forward(module, output)\n",
      "File \u001b[0;32m~/anaconda3/envs/medalpaca/lib/python3.9/site-packages/transformers/models/llama/modeling_llama.py:413\u001b[0m, in \u001b[0;36mLlamaDecoderLayer.forward\u001b[0;34m(self, hidden_states, attention_mask, position_ids, past_key_value, output_attentions, use_cache)\u001b[0m\n\u001b[1;32m    410\u001b[0m hidden_states \u001b[39m=\u001b[39m \u001b[39mself\u001b[39m\u001b[39m.\u001b[39minput_layernorm(hidden_states)\n\u001b[1;32m    412\u001b[0m \u001b[39m# Self Attention\u001b[39;00m\n\u001b[0;32m--> 413\u001b[0m hidden_states, self_attn_weights, present_key_value \u001b[39m=\u001b[39m \u001b[39mself\u001b[39;49m\u001b[39m.\u001b[39;49mself_attn(\n\u001b[1;32m    414\u001b[0m     hidden_states\u001b[39m=\u001b[39;49mhidden_states,\n\u001b[1;32m    415\u001b[0m     attention_mask\u001b[39m=\u001b[39;49mattention_mask,\n\u001b[1;32m    416\u001b[0m     position_ids\u001b[39m=\u001b[39;49mposition_ids,\n\u001b[1;32m    417\u001b[0m     past_key_value\u001b[39m=\u001b[39;49mpast_key_value,\n\u001b[1;32m    418\u001b[0m     output_attentions\u001b[39m=\u001b[39;49moutput_attentions,\n\u001b[1;32m    419\u001b[0m     use_cache\u001b[39m=\u001b[39;49muse_cache,\n\u001b[1;32m    420\u001b[0m )\n\u001b[1;32m    421\u001b[0m hidden_states \u001b[39m=\u001b[39m residual \u001b[39m+\u001b[39m hidden_states\n\u001b[1;32m    423\u001b[0m \u001b[39m# Fully Connected\u001b[39;00m\n",
      "File \u001b[0;32m~/anaconda3/envs/medalpaca/lib/python3.9/site-packages/torch/nn/modules/module.py:1501\u001b[0m, in \u001b[0;36mModule._call_impl\u001b[0;34m(self, *args, **kwargs)\u001b[0m\n\u001b[1;32m   1496\u001b[0m \u001b[39m# If we don't have any hooks, we want to skip the rest of the logic in\u001b[39;00m\n\u001b[1;32m   1497\u001b[0m \u001b[39m# this function, and just call forward.\u001b[39;00m\n\u001b[1;32m   1498\u001b[0m \u001b[39mif\u001b[39;00m \u001b[39mnot\u001b[39;00m (\u001b[39mself\u001b[39m\u001b[39m.\u001b[39m_backward_hooks \u001b[39mor\u001b[39;00m \u001b[39mself\u001b[39m\u001b[39m.\u001b[39m_backward_pre_hooks \u001b[39mor\u001b[39;00m \u001b[39mself\u001b[39m\u001b[39m.\u001b[39m_forward_hooks \u001b[39mor\u001b[39;00m \u001b[39mself\u001b[39m\u001b[39m.\u001b[39m_forward_pre_hooks\n\u001b[1;32m   1499\u001b[0m         \u001b[39mor\u001b[39;00m _global_backward_pre_hooks \u001b[39mor\u001b[39;00m _global_backward_hooks\n\u001b[1;32m   1500\u001b[0m         \u001b[39mor\u001b[39;00m _global_forward_hooks \u001b[39mor\u001b[39;00m _global_forward_pre_hooks):\n\u001b[0;32m-> 1501\u001b[0m     \u001b[39mreturn\u001b[39;00m forward_call(\u001b[39m*\u001b[39;49margs, \u001b[39m*\u001b[39;49m\u001b[39m*\u001b[39;49mkwargs)\n\u001b[1;32m   1502\u001b[0m \u001b[39m# Do not call functions when jit is used\u001b[39;00m\n\u001b[1;32m   1503\u001b[0m full_backward_hooks, non_full_backward_hooks \u001b[39m=\u001b[39m [], []\n",
      "File \u001b[0;32m~/anaconda3/envs/medalpaca/lib/python3.9/site-packages/accelerate/hooks.py:165\u001b[0m, in \u001b[0;36madd_hook_to_module.<locals>.new_forward\u001b[0;34m(*args, **kwargs)\u001b[0m\n\u001b[1;32m    163\u001b[0m         output \u001b[39m=\u001b[39m old_forward(\u001b[39m*\u001b[39margs, \u001b[39m*\u001b[39m\u001b[39m*\u001b[39mkwargs)\n\u001b[1;32m    164\u001b[0m \u001b[39melse\u001b[39;00m:\n\u001b[0;32m--> 165\u001b[0m     output \u001b[39m=\u001b[39m old_forward(\u001b[39m*\u001b[39;49margs, \u001b[39m*\u001b[39;49m\u001b[39m*\u001b[39;49mkwargs)\n\u001b[1;32m    166\u001b[0m \u001b[39mreturn\u001b[39;00m module\u001b[39m.\u001b[39m_hf_hook\u001b[39m.\u001b[39mpost_forward(module, output)\n",
      "File \u001b[0;32m~/anaconda3/envs/medalpaca/lib/python3.9/site-packages/transformers/models/llama/modeling_llama.py:312\u001b[0m, in \u001b[0;36mLlamaAttention.forward\u001b[0;34m(self, hidden_states, attention_mask, position_ids, past_key_value, output_attentions, use_cache)\u001b[0m\n\u001b[1;32m    310\u001b[0m     query_states \u001b[39m=\u001b[39m \u001b[39mself\u001b[39m\u001b[39m.\u001b[39mq_proj(hidden_states)\n\u001b[1;32m    311\u001b[0m     key_states \u001b[39m=\u001b[39m \u001b[39mself\u001b[39m\u001b[39m.\u001b[39mk_proj(hidden_states)\n\u001b[0;32m--> 312\u001b[0m     value_states \u001b[39m=\u001b[39m \u001b[39mself\u001b[39;49m\u001b[39m.\u001b[39;49mv_proj(hidden_states)\n\u001b[1;32m    314\u001b[0m query_states \u001b[39m=\u001b[39m query_states\u001b[39m.\u001b[39mview(bsz, q_len, \u001b[39mself\u001b[39m\u001b[39m.\u001b[39mnum_heads, \u001b[39mself\u001b[39m\u001b[39m.\u001b[39mhead_dim)\u001b[39m.\u001b[39mtranspose(\u001b[39m1\u001b[39m, \u001b[39m2\u001b[39m)\n\u001b[1;32m    315\u001b[0m key_states \u001b[39m=\u001b[39m key_states\u001b[39m.\u001b[39mview(bsz, q_len, \u001b[39mself\u001b[39m\u001b[39m.\u001b[39mnum_key_value_heads, \u001b[39mself\u001b[39m\u001b[39m.\u001b[39mhead_dim)\u001b[39m.\u001b[39mtranspose(\u001b[39m1\u001b[39m, \u001b[39m2\u001b[39m)\n",
      "File \u001b[0;32m~/anaconda3/envs/medalpaca/lib/python3.9/site-packages/torch/nn/modules/module.py:1501\u001b[0m, in \u001b[0;36mModule._call_impl\u001b[0;34m(self, *args, **kwargs)\u001b[0m\n\u001b[1;32m   1496\u001b[0m \u001b[39m# If we don't have any hooks, we want to skip the rest of the logic in\u001b[39;00m\n\u001b[1;32m   1497\u001b[0m \u001b[39m# this function, and just call forward.\u001b[39;00m\n\u001b[1;32m   1498\u001b[0m \u001b[39mif\u001b[39;00m \u001b[39mnot\u001b[39;00m (\u001b[39mself\u001b[39m\u001b[39m.\u001b[39m_backward_hooks \u001b[39mor\u001b[39;00m \u001b[39mself\u001b[39m\u001b[39m.\u001b[39m_backward_pre_hooks \u001b[39mor\u001b[39;00m \u001b[39mself\u001b[39m\u001b[39m.\u001b[39m_forward_hooks \u001b[39mor\u001b[39;00m \u001b[39mself\u001b[39m\u001b[39m.\u001b[39m_forward_pre_hooks\n\u001b[1;32m   1499\u001b[0m         \u001b[39mor\u001b[39;00m _global_backward_pre_hooks \u001b[39mor\u001b[39;00m _global_backward_hooks\n\u001b[1;32m   1500\u001b[0m         \u001b[39mor\u001b[39;00m _global_forward_hooks \u001b[39mor\u001b[39;00m _global_forward_pre_hooks):\n\u001b[0;32m-> 1501\u001b[0m     \u001b[39mreturn\u001b[39;00m forward_call(\u001b[39m*\u001b[39;49margs, \u001b[39m*\u001b[39;49m\u001b[39m*\u001b[39;49mkwargs)\n\u001b[1;32m   1502\u001b[0m \u001b[39m# Do not call functions when jit is used\u001b[39;00m\n\u001b[1;32m   1503\u001b[0m full_backward_hooks, non_full_backward_hooks \u001b[39m=\u001b[39m [], []\n",
      "File \u001b[0;32m~/anaconda3/envs/medalpaca/lib/python3.9/site-packages/accelerate/hooks.py:165\u001b[0m, in \u001b[0;36madd_hook_to_module.<locals>.new_forward\u001b[0;34m(*args, **kwargs)\u001b[0m\n\u001b[1;32m    163\u001b[0m         output \u001b[39m=\u001b[39m old_forward(\u001b[39m*\u001b[39margs, \u001b[39m*\u001b[39m\u001b[39m*\u001b[39mkwargs)\n\u001b[1;32m    164\u001b[0m \u001b[39melse\u001b[39;00m:\n\u001b[0;32m--> 165\u001b[0m     output \u001b[39m=\u001b[39m old_forward(\u001b[39m*\u001b[39;49margs, \u001b[39m*\u001b[39;49m\u001b[39m*\u001b[39;49mkwargs)\n\u001b[1;32m    166\u001b[0m \u001b[39mreturn\u001b[39;00m module\u001b[39m.\u001b[39m_hf_hook\u001b[39m.\u001b[39mpost_forward(module, output)\n",
      "File \u001b[0;32m~/anaconda3/envs/medalpaca/lib/python3.9/site-packages/bitsandbytes/nn/modules.py:441\u001b[0m, in \u001b[0;36mLinear8bitLt.forward\u001b[0;34m(self, x)\u001b[0m\n\u001b[1;32m    438\u001b[0m \u001b[39mif\u001b[39;00m \u001b[39mself\u001b[39m\u001b[39m.\u001b[39mbias \u001b[39mis\u001b[39;00m \u001b[39mnot\u001b[39;00m \u001b[39mNone\u001b[39;00m \u001b[39mand\u001b[39;00m \u001b[39mself\u001b[39m\u001b[39m.\u001b[39mbias\u001b[39m.\u001b[39mdtype \u001b[39m!=\u001b[39m x\u001b[39m.\u001b[39mdtype:\n\u001b[1;32m    439\u001b[0m     \u001b[39mself\u001b[39m\u001b[39m.\u001b[39mbias\u001b[39m.\u001b[39mdata \u001b[39m=\u001b[39m \u001b[39mself\u001b[39m\u001b[39m.\u001b[39mbias\u001b[39m.\u001b[39mdata\u001b[39m.\u001b[39mto(x\u001b[39m.\u001b[39mdtype)\n\u001b[0;32m--> 441\u001b[0m out \u001b[39m=\u001b[39m bnb\u001b[39m.\u001b[39;49mmatmul(x, \u001b[39mself\u001b[39;49m\u001b[39m.\u001b[39;49mweight, bias\u001b[39m=\u001b[39;49m\u001b[39mself\u001b[39;49m\u001b[39m.\u001b[39;49mbias, state\u001b[39m=\u001b[39;49m\u001b[39mself\u001b[39;49m\u001b[39m.\u001b[39;49mstate)\n\u001b[1;32m    443\u001b[0m \u001b[39mif\u001b[39;00m \u001b[39mnot\u001b[39;00m \u001b[39mself\u001b[39m\u001b[39m.\u001b[39mstate\u001b[39m.\u001b[39mhas_fp16_weights:\n\u001b[1;32m    444\u001b[0m     \u001b[39mif\u001b[39;00m \u001b[39mself\u001b[39m\u001b[39m.\u001b[39mstate\u001b[39m.\u001b[39mCB \u001b[39mis\u001b[39;00m \u001b[39mnot\u001b[39;00m \u001b[39mNone\u001b[39;00m \u001b[39mand\u001b[39;00m \u001b[39mself\u001b[39m\u001b[39m.\u001b[39mstate\u001b[39m.\u001b[39mCxB \u001b[39mis\u001b[39;00m \u001b[39mnot\u001b[39;00m \u001b[39mNone\u001b[39;00m:\n\u001b[1;32m    445\u001b[0m         \u001b[39m# we converted 8-bit row major to turing/ampere format in the first inference pass\u001b[39;00m\n\u001b[1;32m    446\u001b[0m         \u001b[39m# we no longer need the row-major weight\u001b[39;00m\n",
      "File \u001b[0;32m~/anaconda3/envs/medalpaca/lib/python3.9/site-packages/bitsandbytes/autograd/_functions.py:563\u001b[0m, in \u001b[0;36mmatmul\u001b[0;34m(A, B, out, state, threshold, bias)\u001b[0m\n\u001b[1;32m    561\u001b[0m \u001b[39mif\u001b[39;00m threshold \u001b[39m>\u001b[39m \u001b[39m0.0\u001b[39m:\n\u001b[1;32m    562\u001b[0m     state\u001b[39m.\u001b[39mthreshold \u001b[39m=\u001b[39m threshold\n\u001b[0;32m--> 563\u001b[0m \u001b[39mreturn\u001b[39;00m MatMul8bitLt\u001b[39m.\u001b[39;49mapply(A, B, out, bias, state)\n",
      "File \u001b[0;32m~/anaconda3/envs/medalpaca/lib/python3.9/site-packages/torch/autograd/function.py:506\u001b[0m, in \u001b[0;36mFunction.apply\u001b[0;34m(cls, *args, **kwargs)\u001b[0m\n\u001b[1;32m    503\u001b[0m \u001b[39mif\u001b[39;00m \u001b[39mnot\u001b[39;00m torch\u001b[39m.\u001b[39m_C\u001b[39m.\u001b[39m_are_functorch_transforms_active():\n\u001b[1;32m    504\u001b[0m     \u001b[39m# See NOTE: [functorch vjp and autograd interaction]\u001b[39;00m\n\u001b[1;32m    505\u001b[0m     args \u001b[39m=\u001b[39m _functorch\u001b[39m.\u001b[39mutils\u001b[39m.\u001b[39munwrap_dead_wrappers(args)\n\u001b[0;32m--> 506\u001b[0m     \u001b[39mreturn\u001b[39;00m \u001b[39msuper\u001b[39;49m()\u001b[39m.\u001b[39;49mapply(\u001b[39m*\u001b[39;49margs, \u001b[39m*\u001b[39;49m\u001b[39m*\u001b[39;49mkwargs)  \u001b[39m# type: ignore[misc]\u001b[39;00m\n\u001b[1;32m    508\u001b[0m \u001b[39mif\u001b[39;00m \u001b[39mcls\u001b[39m\u001b[39m.\u001b[39msetup_context \u001b[39m==\u001b[39m _SingleLevelFunction\u001b[39m.\u001b[39msetup_context:\n\u001b[1;32m    509\u001b[0m     \u001b[39mraise\u001b[39;00m \u001b[39mRuntimeError\u001b[39;00m(\n\u001b[1;32m    510\u001b[0m         \u001b[39m'\u001b[39m\u001b[39mIn order to use an autograd.Function with functorch transforms \u001b[39m\u001b[39m'\u001b[39m\n\u001b[1;32m    511\u001b[0m         \u001b[39m'\u001b[39m\u001b[39m(vmap, grad, jvp, jacrev, ...), it must override the setup_context \u001b[39m\u001b[39m'\u001b[39m\n\u001b[1;32m    512\u001b[0m         \u001b[39m'\u001b[39m\u001b[39mstaticmethod. For more details, please see \u001b[39m\u001b[39m'\u001b[39m\n\u001b[1;32m    513\u001b[0m         \u001b[39m'\u001b[39m\u001b[39mhttps://pytorch.org/docs/master/notes/extending.func.html\u001b[39m\u001b[39m'\u001b[39m)\n",
      "File \u001b[0;32m~/anaconda3/envs/medalpaca/lib/python3.9/site-packages/bitsandbytes/autograd/_functions.py:373\u001b[0m, in \u001b[0;36mMatMul8bitLt.forward\u001b[0;34m(ctx, A, B, out, bias, state)\u001b[0m\n\u001b[1;32m    368\u001b[0m     has_grad \u001b[39m=\u001b[39m \u001b[39mFalse\u001b[39;00m\n\u001b[1;32m    370\u001b[0m \u001b[39mif\u001b[39;00m coo_tensorA \u001b[39mis\u001b[39;00m \u001b[39mnot\u001b[39;00m \u001b[39mNone\u001b[39;00m \u001b[39mand\u001b[39;00m \u001b[39mnot\u001b[39;00m state\u001b[39m.\u001b[39mhas_fp16_weights:\n\u001b[1;32m    371\u001b[0m     \u001b[39m# extract outliers\u001b[39;00m\n\u001b[0;32m--> 373\u001b[0m     outlier_idx \u001b[39m=\u001b[39m torch\u001b[39m.\u001b[39;49munique(coo_tensorA\u001b[39m.\u001b[39;49mcolidx)\n\u001b[1;32m    374\u001b[0m     state\u001b[39m.\u001b[39midx \u001b[39m=\u001b[39m outlier_idx\n\u001b[1;32m    375\u001b[0m     \u001b[39m# state.outlier_pool.add_outliers(outlier_idx, A.shape[-1])\u001b[39;00m\n\u001b[1;32m    376\u001b[0m     \u001b[39m# if state.use_pool and state.outlier_pool.model_dim == A.shape[-1]:\u001b[39;00m\n\u001b[1;32m    377\u001b[0m     \u001b[39m#    # do not use pool for 2nd FFN layer\u001b[39;00m\n\u001b[1;32m    378\u001b[0m     \u001b[39m#    state.idx = state.outlier_pool.get_current_outlier_idx().to(A.device)\u001b[39;00m\n\u001b[1;32m    379\u001b[0m     \u001b[39m# else:\u001b[39;00m\n\u001b[1;32m    380\u001b[0m     \u001b[39m#    state.idx = outlier_idx\u001b[39;00m\n",
      "File \u001b[0;32m~/anaconda3/envs/medalpaca/lib/python3.9/site-packages/torch/_jit_internal.py:484\u001b[0m, in \u001b[0;36mboolean_dispatch.<locals>.fn\u001b[0;34m(*args, **kwargs)\u001b[0m\n\u001b[1;32m    482\u001b[0m     \u001b[39mreturn\u001b[39;00m if_true(\u001b[39m*\u001b[39margs, \u001b[39m*\u001b[39m\u001b[39m*\u001b[39mkwargs)\n\u001b[1;32m    483\u001b[0m \u001b[39melse\u001b[39;00m:\n\u001b[0;32m--> 484\u001b[0m     \u001b[39mreturn\u001b[39;00m if_false(\u001b[39m*\u001b[39;49margs, \u001b[39m*\u001b[39;49m\u001b[39m*\u001b[39;49mkwargs)\n",
      "File \u001b[0;32m~/anaconda3/envs/medalpaca/lib/python3.9/site-packages/torch/_jit_internal.py:484\u001b[0m, in \u001b[0;36mboolean_dispatch.<locals>.fn\u001b[0;34m(*args, **kwargs)\u001b[0m\n\u001b[1;32m    482\u001b[0m     \u001b[39mreturn\u001b[39;00m if_true(\u001b[39m*\u001b[39margs, \u001b[39m*\u001b[39m\u001b[39m*\u001b[39mkwargs)\n\u001b[1;32m    483\u001b[0m \u001b[39melse\u001b[39;00m:\n\u001b[0;32m--> 484\u001b[0m     \u001b[39mreturn\u001b[39;00m if_false(\u001b[39m*\u001b[39;49margs, \u001b[39m*\u001b[39;49m\u001b[39m*\u001b[39;49mkwargs)\n",
      "File \u001b[0;32m~/anaconda3/envs/medalpaca/lib/python3.9/site-packages/torch/functional.py:885\u001b[0m, in \u001b[0;36m_return_output\u001b[0;34m(input, sorted, return_inverse, return_counts, dim)\u001b[0m\n\u001b[1;32m    882\u001b[0m \u001b[39mif\u001b[39;00m has_torch_function_unary(\u001b[39minput\u001b[39m):\n\u001b[1;32m    883\u001b[0m     \u001b[39mreturn\u001b[39;00m _unique_impl(\u001b[39minput\u001b[39m, \u001b[39msorted\u001b[39m, return_inverse, return_counts, dim)\n\u001b[0;32m--> 885\u001b[0m output, _, _ \u001b[39m=\u001b[39m _unique_impl(\u001b[39minput\u001b[39;49m, \u001b[39msorted\u001b[39;49m, return_inverse, return_counts, dim)\n\u001b[1;32m    886\u001b[0m \u001b[39mreturn\u001b[39;00m output\n",
      "File \u001b[0;32m~/anaconda3/envs/medalpaca/lib/python3.9/site-packages/torch/functional.py:799\u001b[0m, in \u001b[0;36m_unique_impl\u001b[0;34m(input, sorted, return_inverse, return_counts, dim)\u001b[0m\n\u001b[1;32m    791\u001b[0m     output, inverse_indices, counts \u001b[39m=\u001b[39m _VF\u001b[39m.\u001b[39munique_dim(\n\u001b[1;32m    792\u001b[0m         \u001b[39minput\u001b[39m,\n\u001b[1;32m    793\u001b[0m         dim,\n\u001b[0;32m   (...)\u001b[0m\n\u001b[1;32m    796\u001b[0m         return_counts\u001b[39m=\u001b[39mreturn_counts,\n\u001b[1;32m    797\u001b[0m     )\n\u001b[1;32m    798\u001b[0m \u001b[39melse\u001b[39;00m:\n\u001b[0;32m--> 799\u001b[0m     output, inverse_indices, counts \u001b[39m=\u001b[39m torch\u001b[39m.\u001b[39;49m_unique2(\n\u001b[1;32m    800\u001b[0m         \u001b[39minput\u001b[39;49m,\n\u001b[1;32m    801\u001b[0m         \u001b[39msorted\u001b[39;49m\u001b[39m=\u001b[39;49m\u001b[39msorted\u001b[39;49m,\n\u001b[1;32m    802\u001b[0m         return_inverse\u001b[39m=\u001b[39;49mreturn_inverse,\n\u001b[1;32m    803\u001b[0m         return_counts\u001b[39m=\u001b[39;49mreturn_counts,\n\u001b[1;32m    804\u001b[0m     )\n\u001b[1;32m    805\u001b[0m \u001b[39mreturn\u001b[39;00m output, inverse_indices, counts\n",
      "\u001b[0;31mKeyboardInterrupt\u001b[0m: "
     ]
    }
   ],
   "source": [
    "print(generate_response(\"A man with asthma visited the pulmonologist to adjust his medication and address recent breathing difficulties.\",\"0: 'The pulmonologist prescribed a stronger bronchodilator for immediate relief', 1: 'The man was advised to use a peak flow meter to monitor lung function', 2: 'Inhaled corticosteroids should be taken daily for long-term control', 3: 'The doctor recommended avoiding triggers such as smoke and pet dander'\"))"
   ]
  },
  {
   "cell_type": "markdown",
   "metadata": {},
   "source": [
    "Output: 2 =======  Original 2"
   ]
  },
  {
   "cell_type": "code",
   "execution_count": 49,
   "metadata": {},
   "outputs": [
    {
     "name": "stdout",
     "output_type": "stream",
     "text": [
      "Context: You are a medical expert who can answer medical related queries. Given the ctx, determine which of the options is correct according to medical science. There are 4 options. Chose the correct one. Answer with only 0,1,2 or 3.\n",
      "\n",
      "ctx: \n",
      "A teenager complained of blurry vision and difficulty reading the board at school.\n",
      "\n",
      "options:\n",
      "0: 'The teenager should undergo an eye exam to check for refractive errors', 1: 'Prescription glasses may be necessary to correct the vision', 2: 'Regular eye exercises can help improve focus and coordination', 3: 'The student was advised to sit closer to the front in the classroom'\n",
      "\n",
      "reply:\n",
      "\n",
      "The correct answer is: 0) 'The teenager should undergo an eye exam to check for refractive errors'.\n"
     ]
    }
   ],
   "source": [
    "print(generate_response(\"A teenager complained of blurry vision and difficulty reading the board at school.\",\"0: 'The teenager should undergo an eye exam to check for refractive errors', 1: 'Prescription glasses may be necessary to correct the vision', 2: 'Regular eye exercises can help improve focus and coordination', 3: 'The student was advised to sit closer to the front in the classroom'\"))"
   ]
  },
  {
   "cell_type": "markdown",
   "metadata": {},
   "source": [
    "Output: 0 ===== Original : 1"
   ]
  },
  {
   "cell_type": "code",
   "execution_count": 50,
   "metadata": {},
   "outputs": [
    {
     "name": "stdout",
     "output_type": "stream",
     "text": [
      "Context: You are a medical expert who can answer medical related queries. Given the ctx, determine which of the options is correct according to medical science. There are 4 options. Chose the correct one. Answer with only 0,1,2 or 3.\n",
      "\n",
      "ctx: \n",
      "A person sought advice from a nutritionist to develop a personalized weight loss plan.\n",
      "\n",
      "options:\n",
      "0: 'The nutritionist recommended a balanced diet with reduced calorie intake', 1: 'Regular physical exercise is essential for weight management', 2: 'Keeping a food journal can help track eating habits', 3: 'The person was advised to set realistic weight loss goals'\n",
      "\n",
      "reply:\n",
      "The correct answer is (0) The nutritionist recommended a balanced diet with reduced calorie intake.\n",
      "According to medical science, a balanced diet with reduced calorie intake is the most effective way to promote weight loss. This is because a calorie deficit is necessary to lose weight, and a balanced diet can help ensure that the body is getting the nutrients it needs while also reducing overall calorie intake. Additionally, a balanced diet can help improve overall health and well-being, which can also support weight loss efforts.\n"
     ]
    }
   ],
   "source": [
    "print(generate_response(\"A person sought advice from a nutritionist to develop a personalized weight loss plan.\",\"0: 'The nutritionist recommended a balanced diet with reduced calorie intake', 1: 'Regular physical exercise is essential for weight management', 2: 'Keeping a food journal can help track eating habits', 3: 'The person was advised to set realistic weight loss goals'\"))"
   ]
  },
  {
   "cell_type": "markdown",
   "metadata": {},
   "source": [
    "Output: 0 ======= Original : 0"
   ]
  },
  {
   "cell_type": "code",
   "execution_count": 51,
   "metadata": {},
   "outputs": [
    {
     "name": "stdout",
     "output_type": "stream",
     "text": [
      "Context: You are a medical expert who can answer medical related queries. Given the ctx, determine which of the options is correct according to medical science. There are 4 options. Chose the correct one. Answer with only 0,1,2 or 3.\n",
      "\n",
      "ctx: \n",
      "The patient visited the dentist for a routine dental examination and cleaning.\n",
      "\n",
      "options:\n",
      "0: 'The dentist identified a cavity that requires filling', 1: 'Proper brushing and flossing techniques were demonstrated', 2: 'Regular dental check-ups should be scheduled every six months', 3: 'The patient was advised to use a fluoride mouthwash for added protection'\n",
      "\n",
      "reply:\n",
      "\n",
      "The correct answer is:\n",
      "0: 'The dentist identified a cavity that requires filling'\n"
     ]
    }
   ],
   "source": [
    "print(generate_response(\"The patient visited the dentist for a routine dental examination and cleaning.\",\"0: 'The dentist identified a cavity that requires filling', 1: 'Proper brushing and flossing techniques were demonstrated', 2: 'Regular dental check-ups should be scheduled every six months', 3: 'The patient was advised to use a fluoride mouthwash for added protection'\"))"
   ]
  },
  {
   "cell_type": "markdown",
   "metadata": {},
   "source": [
    "Output: 0 ======  Original: 2"
   ]
  },
  {
   "cell_type": "code",
   "execution_count": 52,
   "metadata": {},
   "outputs": [
    {
     "name": "stdout",
     "output_type": "stream",
     "text": [
      "Context: You are a medical expert who can answer medical related queries. Given the ctx, determine which of the options is correct according to medical science. There are 4 options. Chose the correct one. Answer with only 0,1,2 or 3.\n",
      "\n",
      "ctx: \n",
      "A person sought therapy to address anxiety and depression symptoms affecting their daily life.\n",
      "\n",
      "options:\n",
      "0: 'The therapist recommended cognitive-behavioral therapy sessions', 1: 'Medication options were discussed for managing symptoms', 2: 'Practicing mindfulness and relaxation techniques can help reduce anxiety', 3: 'The person was advised to reach out to a support group for additional assistance'\n",
      "\n",
      "reply:\n",
      "\n",
      "The correct answer is:\n",
      "\n",
      "0\n"
     ]
    }
   ],
   "source": [
    "print(generate_response(\"A person sought therapy to address anxiety and depression symptoms affecting their daily life.\",\"0: 'The therapist recommended cognitive-behavioral therapy sessions', 1: 'Medication options were discussed for managing symptoms', 2: 'Practicing mindfulness and relaxation techniques can help reduce anxiety', 3: 'The person was advised to reach out to a support group for additional assistance'\"))"
   ]
  },
  {
   "cell_type": "markdown",
   "metadata": {},
   "source": [
    "Output: 0 ========= Original : 1"
   ]
  },
  {
   "cell_type": "code",
   "execution_count": 53,
   "metadata": {},
   "outputs": [
    {
     "name": "stdout",
     "output_type": "stream",
     "text": [
      "Context: You are a medical expert who can answer medical related queries. Given the ctx, determine which of the options is correct according to medical science. There are 4 options. Chose the correct one. Answer with only 0,1,2 or 3.\n",
      "\n",
      "ctx: \n",
      "A patient visited a dermatologist with concerns about a persistent rash on their face.\n",
      "\n",
      "options:\n",
      "0: 'The dermatologist prescribed a topical corticosteroid for the rash', 1: 'Avoiding harsh skincare products and irritants is recommended', 2: 'Allergy testing may be necessary to identify potential triggers', 3: 'The patient was advised to protect the skin from excessive sun exposure'\n",
      "\n",
      "reply:\n",
      "\n",
      "0\n"
     ]
    }
   ],
   "source": [
    "print(generate_response(\"A patient visited a dermatologist with concerns about a persistent rash on their face.\",\"0: 'The dermatologist prescribed a topical corticosteroid for the rash', 1: 'Avoiding harsh skincare products and irritants is recommended', 2: 'Allergy testing may be necessary to identify potential triggers', 3: 'The patient was advised to protect the skin from excessive sun exposure'\"))"
   ]
  },
  {
   "cell_type": "markdown",
   "metadata": {},
   "source": [
    "Output: 0 ======= Original: 0"
   ]
  },
  {
   "cell_type": "code",
   "execution_count": 54,
   "metadata": {},
   "outputs": [
    {
     "name": "stdout",
     "output_type": "stream",
     "text": [
      "Context: You are a medical expert who can answer medical related queries. Given the ctx, determine which of the options is correct according to medical science. There are 4 options. Chose the correct one. Answer with only 0,1,2 or 3.\n",
      "\n",
      "ctx: \n",
      "An individual consulted a gastroenterologist regarding recurring stomach pain and digestion problems.\n",
      "\n",
      "options:\n",
      "0: 'The gastroenterologist recommended a comprehensive digestive system evaluation', 1: 'Dietary changes such as reducing spicy foods can alleviate symptoms', 2: 'Medication for acid reflux was prescribed', 3: 'The individual was advised to increase fiber intake for better digestion'\n",
      "\n",
      "reply:\n",
      "The correct answer is (3) The individual was advised to increase fiber intake for better digestion.\n"
     ]
    }
   ],
   "source": [
    "print(generate_response(\"An individual consulted a gastroenterologist regarding recurring stomach pain and digestion problems.\",\"0: 'The gastroenterologist recommended a comprehensive digestive system evaluation', 1: 'Dietary changes such as reducing spicy foods can alleviate symptoms', 2: 'Medication for acid reflux was prescribed', 3: 'The individual was advised to increase fiber intake for better digestion'\"))"
   ]
  },
  {
   "cell_type": "markdown",
   "metadata": {},
   "source": [
    "Output : 3 ======= Original : 2"
   ]
  },
  {
   "cell_type": "code",
   "execution_count": 55,
   "metadata": {},
   "outputs": [
    {
     "name": "stdout",
     "output_type": "stream",
     "text": [
      "Context: You are a medical expert who can answer medical related queries. Given the ctx, determine which of the options is correct according to medical science. There are 4 options. Chose the correct one. Answer with only 0,1,2 or 3.\n",
      "\n",
      "ctx: \n",
      "A patient sought help from a sleep specialist due to chronic insomnia and difficulty falling asleep.\n",
      "\n",
      "options:\n",
      "0: 'The sleep specialist suggested a sleep study to evaluate sleep patterns', 1: 'Sleep hygiene practices such as a consistent bedtime routine were recommended', 2: 'Prescription medication can be considered for short-term relief', 3: 'The patient was advised to limit caffeine intake and avoid electronics before bed'\n",
      "\n",
      "reply:\n",
      "\n",
      "0\n"
     ]
    }
   ],
   "source": [
    "print(generate_response(\"A patient sought help from a sleep specialist due to chronic insomnia and difficulty falling asleep.\",\"0: 'The sleep specialist suggested a sleep study to evaluate sleep patterns', 1: 'Sleep hygiene practices such as a consistent bedtime routine were recommended', 2: 'Prescription medication can be considered for short-term relief', 3: 'The patient was advised to limit caffeine intake and avoid electronics before bed'\"))"
   ]
  },
  {
   "cell_type": "markdown",
   "metadata": {},
   "source": [
    "Output: 0 ========== Original : 3"
   ]
  },
  {
   "cell_type": "code",
   "execution_count": 56,
   "metadata": {},
   "outputs": [
    {
     "name": "stdout",
     "output_type": "stream",
     "text": [
      "Context: You are a medical expert who can answer medical related queries. Given the ctx, determine which of the options is correct according to medical science. There are 4 options. Chose the correct one. Answer with only 0,1,2 or 3.\n",
      "\n",
      "ctx: \n",
      "A parent had questions about the recommended vaccination schedule for their newborn baby.\n",
      "\n",
      "options:\n",
      "0: 'The pediatrician explained the importance of vaccines for the baby's immune system', 1: 'A vaccination chart was provided with the recommended schedule', 2: 'Possible side effects and their rarity were discussed', 3: 'The parent was advised to keep a record of the vaccinations received'\n",
      "\n",
      "reply:\n",
      "The correct answer is (1): 'A vaccination chart was provided with the recommended schedule'.\n",
      "\n",
      "Explanation:\n",
      "The recommended vaccination schedule for newborn babies is crucial for their immunization and protection against infectious diseases. Providing a vaccination chart with the recommended schedule is a common practice in medical settings to ensure that parents are well-informed and can follow the schedule correctly. This option is supported by medical science and is the most appropriate answer.\n"
     ]
    }
   ],
   "source": [
    "print(generate_response(\"A parent had questions about the recommended vaccination schedule for their newborn baby.\", \"0: 'The pediatrician explained the importance of vaccines for the baby's immune system', 1: 'A vaccination chart was provided with the recommended schedule', 2: 'Possible side effects and their rarity were discussed', 3: 'The parent was advised to keep a record of the vaccinations received'\"))"
   ]
  },
  {
   "cell_type": "markdown",
   "metadata": {},
   "source": [
    "Output : 1 ========== Original : 2"
   ]
  },
  {
   "cell_type": "code",
   "execution_count": 57,
   "metadata": {},
   "outputs": [
    {
     "name": "stdout",
     "output_type": "stream",
     "text": [
      "Context: You are a medical expert who can answer medical related queries. Given the ctx, determine which of the options is correct according to medical science. There are 4 options. Chose the correct one. Answer with only 0,1,2 or 3.\n",
      "\n",
      "ctx: \n",
      "An individual visited a cardiologist for a check-up to assess heart health and discuss preventive measures.\n",
      "\n",
      "options:\n",
      "0: 'The cardiologist recommended regular cardiovascular exercise', 1: 'A heart-healthy diet low in saturated fats is essential', 2: 'Monitoring blood pressure regularly can help identify potential issues', 3: 'The individual was advised to quit smoking for better heart health'\n",
      "\n",
      "reply:\n",
      "\n",
      "The correct answer is (2) Monitoring blood pressure regularly can help identify potential issues.\n"
     ]
    }
   ],
   "source": [
    "print(generate_response(\"An individual visited a cardiologist for a check-up to assess heart health and discuss preventive measures.\",\"0: 'The cardiologist recommended regular cardiovascular exercise', 1: 'A heart-healthy diet low in saturated fats is essential', 2: 'Monitoring blood pressure regularly can help identify potential issues', 3: 'The individual was advised to quit smoking for better heart health'\"))"
   ]
  },
  {
   "cell_type": "markdown",
   "metadata": {},
   "source": [
    "Output : 2 ========= Original : 1"
   ]
  },
  {
   "cell_type": "markdown",
   "metadata": {},
   "source": [
    "# Result of llama-2-chat-hf 7b \n",
    "\n",
    "Total examples: 15 \n",
    "Correct Answers: 4\n",
    "Wrong Answers : 11 "
   ]
  },
  {
   "cell_type": "code",
   "execution_count": 58,
   "metadata": {},
   "outputs": [],
   "source": [
    "import pandas as pd"
   ]
  },
  {
   "cell_type": "code",
   "execution_count": 59,
   "metadata": {},
   "outputs": [],
   "source": [
    "df = pd.read_csv(\"/home/asif/llm/evaluation/csv/hellaswag_medi.csv\")"
   ]
  },
  {
   "cell_type": "code",
   "execution_count": 60,
   "metadata": {},
   "outputs": [
    {
     "data": {
      "text/plain": [
       "('A patient visited the doctor concerned about consistently high blood pressure readings.',\n",
       " \"0: 'The doctor recommended lifestyle modifications such as a low-sodium diet', 1: 'Regular exercise can help lower blood pressure', 2: 'Prescription medication may be necessary to manage hypertension', 3: 'The patient was advised to monitor blood pressure at home regularly'\")"
      ]
     },
     "execution_count": 60,
     "metadata": {},
     "output_type": "execute_result"
    }
   ],
   "source": [
    "df[\"ctx_a\"].iloc[16], df[\"cleaned_endings\"].iloc[16].replace(\"{\",\"\").replace(\"}\",\"\")"
   ]
  },
  {
   "cell_type": "code",
   "execution_count": 61,
   "metadata": {},
   "outputs": [
    {
     "name": "stdout",
     "output_type": "stream",
     "text": [
      "Context: You are a medical expert who can answer medical related queries. Given the ctx, determine which of the options is correct according to medical science. There are 4 options. Chose the correct one. Answer with only 0,1,2 or 3.\n",
      "\n",
      "ctx: \n",
      "A patient visited the doctor concerned about consistently high blood pressure readings.\n",
      "\n",
      "options:\n",
      "0: 'The doctor recommended lifestyle modifications such as a low-sodium diet', 1: 'Regular exercise can help lower blood pressure', 2: 'Prescription medication may be necessary to manage hypertension', 3: 'The patient was advised to monitor blood pressure at home regularly'\n",
      "\n",
      "reply:\n",
      "The correct answer is (2) Prescription medication may be necessary to manage hypertension.\n",
      "Original label:  2\n"
     ]
    },
    {
     "data": {
      "text/plain": [
       "(None, None)"
      ]
     },
     "execution_count": 61,
     "metadata": {},
     "output_type": "execute_result"
    }
   ],
   "source": [
    "print(generate_response(df[\"ctx_a\"].iloc[16], df[\"cleaned_endings\"].iloc[16].replace(\"{\",\"\").replace(\"}\",\"\"))), print(\"Original label: \", df[\"label\"].iloc[16])"
   ]
  },
  {
   "cell_type": "code",
   "execution_count": 62,
   "metadata": {},
   "outputs": [
    {
     "name": "stdout",
     "output_type": "stream",
     "text": [
      "Context: You are a medical expert who can answer medical related queries. Given the ctx, determine which of the options is correct according to medical science. There are 4 options. Chose the correct one. Answer with only 0,1,2 or 3.\n",
      "\n",
      "ctx: \n",
      "An individual sought advice from a rheumatologist regarding persistent joint pain and stiffness.\n",
      "\n",
      "options:\n",
      "0: 'The rheumatologist ordered blood tests to check for inflammatory markers', 1: 'Physical therapy sessions were recommended to improve joint mobility', 2: 'Medication options were discussed to manage pain and inflammation', 3: 'The individual was advised to apply warm or cold compresses for pain relief'\n",
      "\n",
      "reply:\n",
      "\n",
      "The correct answer is:\n",
      "\n",
      "2: Medication options were discussed to manage pain and inflammation.\n",
      "Original label:  3\n"
     ]
    },
    {
     "data": {
      "text/plain": [
       "(None, None)"
      ]
     },
     "execution_count": 62,
     "metadata": {},
     "output_type": "execute_result"
    }
   ],
   "source": [
    "print(generate_response(df[\"ctx_a\"].iloc[17], df[\"cleaned_endings\"].iloc[17].replace(\"{\",\"\").replace(\"}\",\"\"))), print(\"Original label: \", df[\"label\"].iloc[17])"
   ]
  },
  {
   "cell_type": "code",
   "execution_count": 63,
   "metadata": {},
   "outputs": [
    {
     "name": "stdout",
     "output_type": "stream",
     "text": [
      "Context: You are a medical expert who can answer medical related queries. Given the ctx, determine which of the options is correct according to medical science. There are 4 options. Chose the correct one. Answer with only 0,1,2 or 3.\n",
      "\n",
      "ctx: \n",
      "A person scheduled therapy sessions to address anxiety and depression symptoms affecting their daily life.\n",
      "\n",
      "options:\n",
      "0: 'The therapist recommended cognitive-behavioral therapy to develop coping strategies', 1: 'Medication options were discussed for symptom management', 2: 'Engaging in stress-reducing activities such as meditation can be beneficial', 3: 'The person was advised to prioritize self-care and establish a support system'\n",
      "\n",
      "reply:\n",
      "\n",
      "0\n",
      "Original label:  0\n"
     ]
    },
    {
     "data": {
      "text/plain": [
       "(None, None)"
      ]
     },
     "execution_count": 63,
     "metadata": {},
     "output_type": "execute_result"
    }
   ],
   "source": [
    "print(generate_response(df[\"ctx_a\"].iloc[18], df[\"cleaned_endings\"].iloc[18].replace(\"{\",\"\").replace(\"}\",\"\"))), print(\"Original label: \", df[\"label\"].iloc[18])"
   ]
  },
  {
   "cell_type": "code",
   "execution_count": 64,
   "metadata": {},
   "outputs": [
    {
     "name": "stdout",
     "output_type": "stream",
     "text": [
      "Context: You are a medical expert who can answer medical related queries. Given the ctx, determine which of the options is correct according to medical science. There are 4 options. Chose the correct one. Answer with only 0,1,2 or 3.\n",
      "\n",
      "ctx: \n",
      "An individual visited a chiropractor with complaints of chronic back pain and limited range of motion.\n",
      "\n",
      "options:\n",
      "0: 'The chiropractor performed spinal adjustments to alleviate pain and improve mobility', 1: 'Stretching exercises and proper posture were demonstrated', 2: 'Heat or cold therapy may provide temporary relief', 3: 'The individual was advised to avoid heavy lifting and incorporate core-strengthening exercises'\n",
      "\n",
      "reply:\n",
      "\n",
      "0\n",
      "Original label:  1\n"
     ]
    },
    {
     "data": {
      "text/plain": [
       "(None, None)"
      ]
     },
     "execution_count": 64,
     "metadata": {},
     "output_type": "execute_result"
    }
   ],
   "source": [
    "print(generate_response(df[\"ctx_a\"].iloc[19], df[\"cleaned_endings\"].iloc[19].replace(\"{\",\"\").replace(\"}\",\"\"))), print(\"Original label: \", df[\"label\"].iloc[19])"
   ]
  },
  {
   "cell_type": "code",
   "execution_count": 65,
   "metadata": {},
   "outputs": [
    {
     "name": "stdout",
     "output_type": "stream",
     "text": [
      "Context: You are a medical expert who can answer medical related queries. Given the ctx, determine which of the options is correct according to medical science. There are 4 options. Chose the correct one. Answer with only 0,1,2 or 3.\n",
      "\n",
      "ctx: \n",
      "A patient visited a dermatologist for a routine skin check and to assess any potential signs of skin cancer.\n",
      "\n",
      "options:\n",
      "0: 'The dermatologist recommended a biopsy for suspicious moles', 1: 'Regular use of sunscreen and sun protection measures were emphasized', 2: 'The patient was advised to monitor any changes in the appearance of skin lesions', 3: 'Skin cancer prevention strategies such as avoiding tanning beds were discussed'\n",
      "\n",
      "reply:\n",
      "\n",
      "The correct answer is (0) 'The dermatologist recommended a biopsy for suspicious moles'.\n",
      "Original label:  0\n"
     ]
    },
    {
     "data": {
      "text/plain": [
       "(None, None)"
      ]
     },
     "execution_count": 65,
     "metadata": {},
     "output_type": "execute_result"
    }
   ],
   "source": [
    "print(generate_response(df[\"ctx_a\"].iloc[20], df[\"cleaned_endings\"].iloc[20].replace(\"{\",\"\").replace(\"}\",\"\"))), print(\"Original label: \", df[\"label\"].iloc[20])"
   ]
  },
  {
   "cell_type": "code",
   "execution_count": 66,
   "metadata": {},
   "outputs": [
    {
     "name": "stdout",
     "output_type": "stream",
     "text": [
      "Context: You are a medical expert who can answer medical related queries. Given the ctx, determine which of the options is correct according to medical science. There are 4 options. Chose the correct one. Answer with only 0,1,2 or 3.\n",
      "\n",
      "ctx: \n",
      "A person went to an orthopedic specialist after injuring their knee while playing sports.\n",
      "\n",
      "options:\n",
      "0: 'The orthopedic specialist ordered an MRI to evaluate the extent of the knee injury', 1: 'Resting the knee and using ice packs can help reduce swelling', 2: 'Physical therapy sessions were recommended for rehabilitation', 3: 'Surgery may be necessary to repair the damaged knee ligaments'\n",
      "\n",
      "reply:\n",
      "\n",
      "0\n",
      "Original label:  3\n"
     ]
    },
    {
     "data": {
      "text/plain": [
       "(None, None)"
      ]
     },
     "execution_count": 66,
     "metadata": {},
     "output_type": "execute_result"
    }
   ],
   "source": [
    "print(generate_response(df[\"ctx_a\"].iloc[21], df[\"cleaned_endings\"].iloc[21].replace(\"{\",\"\").replace(\"}\",\"\"))), print(\"Original label: \", df[\"label\"].iloc[21])"
   ]
  },
  {
   "cell_type": "code",
   "execution_count": 67,
   "metadata": {},
   "outputs": [
    {
     "name": "stdout",
     "output_type": "stream",
     "text": [
      "Context: You are a medical expert who can answer medical related queries. Given the ctx, determine which of the options is correct according to medical science. There are 4 options. Chose the correct one. Answer with only 0,1,2 or 3.\n",
      "\n",
      "ctx: \n",
      "A person sought therapy sessions to learn coping mechanisms and strategies to manage their anxiety.\n",
      "\n",
      "options:\n",
      "0: 'The therapist recommended relaxation techniques such as deep breathing exercises', 1: 'Cognitive restructuring was discussed to challenge negative thought patterns', 2: 'Medication options were explored for anxiety symptom management', 3: 'The person was advised to maintain a consistent sleep schedule for better emotional well-being'\n",
      "\n",
      "reply:\n",
      "\n",
      "The correct answer is:\n",
      "\n",
      "0\n",
      "Original label:  1\n"
     ]
    },
    {
     "data": {
      "text/plain": [
       "(None, None)"
      ]
     },
     "execution_count": 67,
     "metadata": {},
     "output_type": "execute_result"
    }
   ],
   "source": [
    "print(generate_response(df[\"ctx_a\"].iloc[22], df[\"cleaned_endings\"].iloc[22].replace(\"{\",\"\").replace(\"}\",\"\"))), print(\"Original label: \", df[\"label\"].iloc[22])"
   ]
  },
  {
   "cell_type": "code",
   "execution_count": 68,
   "metadata": {},
   "outputs": [
    {
     "name": "stdout",
     "output_type": "stream",
     "text": [
      "Context: You are a medical expert who can answer medical related queries. Given the ctx, determine which of the options is correct according to medical science. There are 4 options. Chose the correct one. Answer with only 0,1,2 or 3.\n",
      "\n",
      "ctx: \n",
      "An expectant mother visited an obstetrician for prenatal care, monitoring the health of both the mother and baby.\n",
      "\n",
      "options:\n",
      "0: 'The obstetrician discussed the importance of prenatal vitamins and a balanced diet', 1: 'Regular ultrasound scans were scheduled to monitor fetal development', 2: 'The mother was advised to attend childbirth classes for preparation', 3: 'Any concerns or unusual symptoms should be promptly reported to the obstetrician'\n",
      "\n",
      "reply:\n",
      "\n",
      "The correct answer is:\n",
      "\n",
      "2: 'The mother was advised to attend childbirth classes for preparation'\n",
      "Original label:  2\n"
     ]
    },
    {
     "data": {
      "text/plain": [
       "(None, None)"
      ]
     },
     "execution_count": 68,
     "metadata": {},
     "output_type": "execute_result"
    }
   ],
   "source": [
    "print(generate_response(df[\"ctx_a\"].iloc[23], df[\"cleaned_endings\"].iloc[23].replace(\"{\",\"\").replace(\"}\",\"\"))), print(\"Original label: \", df[\"label\"].iloc[23])"
   ]
  },
  {
   "cell_type": "code",
   "execution_count": 69,
   "metadata": {},
   "outputs": [
    {
     "name": "stdout",
     "output_type": "stream",
     "text": [
      "Context: You are a medical expert who can answer medical related queries. Given the ctx, determine which of the options is correct according to medical science. There are 4 options. Chose the correct one. Answer with only 0,1,2 or 3.\n",
      "\n",
      "ctx: \n",
      "A person experienced an allergic reaction after coming into contact with a specific food allergen.\n",
      "\n",
      "options:\n",
      "0: 'The person was advised to carry an epinephrine auto-injector for emergency use', 1: 'Avoiding the specific allergen and reading food labels carefully is crucial', 2: 'The allergist recommended allergy testing to identify other potential triggers', 3: 'Antihistamine medication can help alleviate symptoms during a reaction'\n",
      "\n",
      "reply:\n",
      "\n",
      "0\n",
      "Original label:  0\n"
     ]
    },
    {
     "data": {
      "text/plain": [
       "(None, None)"
      ]
     },
     "execution_count": 69,
     "metadata": {},
     "output_type": "execute_result"
    }
   ],
   "source": [
    "print(generate_response(df[\"ctx_a\"].iloc[24], df[\"cleaned_endings\"].iloc[24].replace(\"{\",\"\").replace(\"}\",\"\"))), print(\"Original label: \", df[\"label\"].iloc[24])"
   ]
  },
  {
   "cell_type": "code",
   "execution_count": 70,
   "metadata": {},
   "outputs": [
    {
     "name": "stdout",
     "output_type": "stream",
     "text": [
      "Context: You are a medical expert who can answer medical related queries. Given the ctx, determine which of the options is correct according to medical science. There are 4 options. Chose the correct one. Answer with only 0,1,2 or 3.\n",
      "\n",
      "ctx: \n",
      "An individual visited a gastroenterologist with symptoms of chronic acid reflux and frequent stomach discomfort.\n",
      "\n",
      "options:\n",
      "0: 'The gastroenterologist suggested dietary modifications such as avoiding acidic and spicy foods', 1: 'Medication for reducing stomach acid production was prescribed', 2: 'Endoscopy may be necessary to assess the esophagus and stomach', 3: 'The individual was advised to eat smaller more frequent meals to reduce reflux symptoms'\n",
      "\n",
      "reply:\n",
      "\n",
      "The correct answer is:\n",
      "\n",
      "1: Medication for reducing stomach acid production was prescribed.\n",
      "Original label:  2\n"
     ]
    },
    {
     "data": {
      "text/plain": [
       "(None, None)"
      ]
     },
     "execution_count": 70,
     "metadata": {},
     "output_type": "execute_result"
    }
   ],
   "source": [
    "print(generate_response(df[\"ctx_a\"].iloc[25], df[\"cleaned_endings\"].iloc[25].replace(\"{\",\"\").replace(\"}\",\"\"))), print(\"Original label: \", df[\"label\"].iloc[25])"
   ]
  },
  {
   "cell_type": "code",
   "execution_count": 71,
   "metadata": {},
   "outputs": [
    {
     "name": "stdout",
     "output_type": "stream",
     "text": [
      "Context: You are a medical expert who can answer medical related queries. Given the ctx, determine which of the options is correct according to medical science. There are 4 options. Chose the correct one. Answer with only 0,1,2 or 3.\n",
      "\n",
      "ctx: \n",
      "A person sought guidance from a pulmonologist to manage their asthma symptoms and improve lung function.\n",
      "\n",
      "options:\n",
      "0: 'The pulmonologist prescribed an inhaler for quick-relief during asthma attacks', 1: 'Identifying and avoiding triggers such as pollen or pet dander is essential', 2: 'Regular spirometry tests were recommended to monitor lung function', 3: 'The person was advised to create an asthma action plan for better self-management'\n",
      "\n",
      "reply:\n",
      "\n",
      "The correct answer is (3) The person was advised to create an asthma action plan for better self-management.\n",
      "Original label:  3\n"
     ]
    },
    {
     "data": {
      "text/plain": [
       "(None, None)"
      ]
     },
     "execution_count": 71,
     "metadata": {},
     "output_type": "execute_result"
    }
   ],
   "source": [
    "print(generate_response(df[\"ctx_a\"].iloc[26], df[\"cleaned_endings\"].iloc[26].replace(\"{\",\"\").replace(\"}\",\"\"))), print(\"Original label: \", df[\"label\"].iloc[26])"
   ]
  },
  {
   "cell_type": "code",
   "execution_count": 72,
   "metadata": {},
   "outputs": [
    {
     "name": "stdout",
     "output_type": "stream",
     "text": [
      "Context: You are a medical expert who can answer medical related queries. Given the ctx, determine which of the options is correct according to medical science. There are 4 options. Chose the correct one. Answer with only 0,1,2 or 3.\n",
      "\n",
      "ctx: \n",
      "An individual visited an endocrinologist to discuss diabetes management and achieve better blood sugar control.\n",
      "\n",
      "options:\n",
      "0: 'The endocrinologist recommended regular blood glucose monitoring and insulin injections', 1: 'Dietary modifications such as counting carbohydrates were discussed', 2: 'Exercise and physical activity play a crucial role in diabetes management', 3: 'The individual was advised to schedule regular follow-up appointments to track progress'\n",
      "\n",
      "reply:\n",
      "\n",
      "0\n",
      "Original label:  0\n"
     ]
    },
    {
     "data": {
      "text/plain": [
       "(None, None)"
      ]
     },
     "execution_count": 72,
     "metadata": {},
     "output_type": "execute_result"
    }
   ],
   "source": [
    "print(generate_response(df[\"ctx_a\"].iloc[27], df[\"cleaned_endings\"].iloc[27].replace(\"{\",\"\").replace(\"}\",\"\"))), print(\"Original label: \", df[\"label\"].iloc[27])"
   ]
  },
  {
   "cell_type": "code",
   "execution_count": 73,
   "metadata": {},
   "outputs": [
    {
     "name": "stdout",
     "output_type": "stream",
     "text": [
      "Context: You are a medical expert who can answer medical related queries. Given the ctx, determine which of the options is correct according to medical science. There are 4 options. Chose the correct one. Answer with only 0,1,2 or 3.\n",
      "\n",
      "ctx: \n",
      "A patient underwent physical therapy sessions to rehabilitate and regain strength after a sports-related injury.\n",
      "\n",
      "options:\n",
      "0: \"The physical therapist developed a customized exercise program for the patient's specific needs\", 1: 'Manual therapy techniques such as massage and joint mobilization were applied', 2: 'Gradual progression of activities was recommended to avoid re-injury', 3: 'The patient was advised to perform home exercises as part of the rehabilitation process'\n",
      "\n",
      "reply:\n",
      "\n",
      "The correct answer is:\n",
      "\n",
      "2: Gradual progression of activities was recommended to avoid re-injury.\n",
      "Original label:  3\n"
     ]
    },
    {
     "data": {
      "text/plain": [
       "(None, None)"
      ]
     },
     "execution_count": 73,
     "metadata": {},
     "output_type": "execute_result"
    }
   ],
   "source": [
    "print(generate_response(df[\"ctx_a\"].iloc[28], df[\"cleaned_endings\"].iloc[28].replace(\"{\",\"\").replace(\"}\",\"\"))), print(\"Original label: \", df[\"label\"].iloc[28])"
   ]
  },
  {
   "cell_type": "code",
   "execution_count": 74,
   "metadata": {},
   "outputs": [
    {
     "name": "stdout",
     "output_type": "stream",
     "text": [
      "Context: You are a medical expert who can answer medical related queries. Given the ctx, determine which of the options is correct according to medical science. There are 4 options. Chose the correct one. Answer with only 0,1,2 or 3.\n",
      "\n",
      "ctx: \n",
      "An individual visited an audiologist due to concerns about hearing loss and difficulty understanding conversations.\n",
      "\n",
      "options:\n",
      "0: 'The audiologist performed a hearing evaluation to assess the extent of hearing loss', 1: 'Hearing aids were recommended for improved auditory function', 2: 'Communication strategies such as lip-reading and using visual cues were discussed', 3: 'The individual was advised to protect the ears from loud noise to prevent further hearing damage'\n",
      "\n",
      "reply:\n",
      "\n",
      "0\n",
      "Original label:  1\n"
     ]
    },
    {
     "data": {
      "text/plain": [
       "(None, None)"
      ]
     },
     "execution_count": 74,
     "metadata": {},
     "output_type": "execute_result"
    }
   ],
   "source": [
    "print(generate_response(df[\"ctx_a\"].iloc[29], df[\"cleaned_endings\"].iloc[29].replace(\"{\",\"\").replace(\"}\",\"\"))), print(\"Original label: \", df[\"label\"].iloc[29])"
   ]
  },
  {
   "cell_type": "code",
   "execution_count": 75,
   "metadata": {},
   "outputs": [
    {
     "name": "stdout",
     "output_type": "stream",
     "text": [
      "Context: You are a medical expert who can answer medical related queries. Given the ctx, determine which of the options is correct according to medical science. There are 4 options. Chose the correct one. Answer with only 0,1,2 or 3.\n",
      "\n",
      "ctx: \n",
      "A person consulted a nutritionist to develop a balanced and healthy diet plan for weight management and overall well-being.\n",
      "\n",
      "options:\n",
      "0: 'The nutritionist emphasized the importance of consuming a variety of fruits and vegetables', 1: 'Portion control and mindful eating practices were discussed', 2: 'Including lean protein sources and whole grains in meals is recommended', 3: 'The person was advised to stay hydrated and limit intake of processed foods'\n",
      "\n",
      "reply:\n",
      "\n",
      "The correct answer is:\n",
      "\n",
      "2: 'Including lean protein sources and whole grains in meals is recommended'\n",
      "Original label:  2\n"
     ]
    },
    {
     "data": {
      "text/plain": [
       "(None, None)"
      ]
     },
     "execution_count": 75,
     "metadata": {},
     "output_type": "execute_result"
    }
   ],
   "source": [
    "print(generate_response(df[\"ctx_a\"].iloc[30], df[\"cleaned_endings\"].iloc[30].replace(\"{\",\"\").replace(\"}\",\"\"))), print(\"Original label: \", df[\"label\"].iloc[30])"
   ]
  },
  {
   "cell_type": "markdown",
   "metadata": {},
   "source": [
    "8 out of 15"
   ]
  },
  {
   "cell_type": "code",
   "execution_count": 76,
   "metadata": {},
   "outputs": [
    {
     "name": "stdout",
     "output_type": "stream",
     "text": [
      "Context: You are a medical expert who can answer medical related queries. Given the ctx, determine which of the options is correct according to medical science. There are 4 options. Chose the correct one. Answer with only 0,1,2 or 3.\n",
      "\n",
      "ctx: \n",
      "A person consulted a nutritionist to develop a balanced and healthy diet plan for weight management and overall well-being.\n",
      "\n",
      "options:\n",
      "0: 'The nutritionist emphasized the importance of consuming a variety of fruits and vegetables', 1: 'Portion control and mindful eating practices were discussed', 2: 'Including lean protein sources and whole grains in meals is recommended', 3: 'The person was advised to stay hydrated and limit intake of processed foods'\n",
      "\n",
      "reply:\n",
      "\n",
      "The correct answer is:\n",
      "\n",
      "2: 'Including lean protein sources and whole grains in meals is recommended'\n",
      "Original label:  2\n",
      "Context: You are a medical expert who can answer medical related queries. Given the ctx, determine which of the options is correct according to medical science. There are 4 options. Chose the correct one. Answer with only 0,1,2 or 3.\n",
      "\n",
      "ctx: \n",
      "A person visited a primary care physician with symptoms of a common cold, including a runny nose and sore throat.\n",
      "\n",
      "options:\n",
      "0: 'The primary care physician recommended over-the-counter cold medications for symptom relief', 1: 'Rest and staying hydrated are crucial for recovery', 2: 'Gargling with warm saltwater can help soothe a sore throat', 3: 'The person was advised to cover the mouth and nose when coughing or sneezing'\n",
      "\n",
      "reply:\n",
      "\n",
      "The correct answer is:\n",
      "0\n",
      "Original label:  0\n",
      "Context: You are a medical expert who can answer medical related queries. Given the ctx, determine which of the options is correct according to medical science. There are 4 options. Chose the correct one. Answer with only 0,1,2 or 3.\n",
      "\n",
      "ctx: \n",
      "A patient sought medical attention after experiencing a fall and suspected a possible fracture in their arm.\n",
      "\n",
      "options:\n",
      "0: 'The healthcare provider ordered an X-ray to confirm the presence of a fracture', 1: 'Immobilization using a cast or splint may be necessary for proper healing', 2: 'Pain medication was prescribed for pain management', 3: 'Surgical intervention may be required for severe fractures'\n",
      "\n",
      "reply:\n",
      "\n",
      "The correct answer is:\n",
      "0\n",
      "Original label:  2\n",
      "Context: You are a medical expert who can answer medical related queries. Given the ctx, determine which of the options is correct according to medical science. There are 4 options. Chose the correct one. Answer with only 0,1,2 or 3.\n",
      "\n",
      "ctx: \n",
      "An individual consulted a dietitian to develop a personalized weight loss plan and adopt healthier lifestyle habits.\n",
      "\n",
      "options:\n",
      "0: 'The dietitian recommended a combination of a balanced diet and regular physical activity', 1: 'Setting realistic goals and tracking progress can help with motivation', 2: 'Behavioral strategies such as mindful eating were discussed', 3: 'The individual was advised to seek social support and accountability for successful weight loss'\n",
      "\n",
      "reply:\n",
      "\n",
      "0\n",
      "Original label:  1\n",
      "Context: You are a medical expert who can answer medical related queries. Given the ctx, determine which of the options is correct according to medical science. There are 4 options. Chose the correct one. Answer with only 0,1,2 or 3.\n",
      "\n",
      "ctx: \n",
      "A person visited a neurologist after sustaining a head injury and experiencing symptoms of a concussion.\n",
      "\n",
      "options:\n",
      "0: 'The neurologist advised rest and avoiding activities that worsen symptoms', 1: 'Gradual return to physical and cognitive activities was discussed', 2: 'Monitoring for any signs of worsening symptoms is important', 3: 'The person was advised to seek medical attention if symptoms persist or worsen'\n",
      "\n",
      "reply:\n",
      "\n",
      "The correct answer is (3) The person was advised to seek medical attention if symptoms persist or worsen.\n",
      "Original label:  3\n",
      "Context: You are a medical expert who can answer medical related queries. Given the ctx, determine which of the options is correct according to medical science. There are 4 options. Chose the correct one. Answer with only 0,1,2 or 3.\n",
      "\n",
      "ctx: \n",
      "An individual went to an optometrist to have their vision checked and discuss options for vision correction.\n",
      "\n",
      "options:\n",
      "0: 'The optometrist prescribed corrective lenses for improved vision', 1: 'Contact lenses were recommended as an alternative to glasses', 2: 'Discussing refractive surgery options such as LASIK was part of the consultation', 3: 'The individual was advised to schedule regular eye exams for ongoing vision care'\n",
      "\n",
      "reply:\n",
      "\n",
      "The correct answer is:\n",
      "\n",
      "2: 'Discussing refractive surgery options such as LASIK was part of the consultation'\n",
      "Original label:  0\n",
      "Context: You are a medical expert who can answer medical related queries. Given the ctx, determine which of the options is correct according to medical science. There are 4 options. Chose the correct one. Answer with only 0,1,2 or 3.\n",
      "\n",
      "ctx: \n",
      "A patient consulted an endocrinologist for evaluation and management of a suspected thyroid disorder.\n",
      "\n",
      "options:\n",
      "0: 'The endocrinologist ordered blood tests to assess thyroid hormone levels', 1: 'Medication for thyroid hormone replacement was prescribed', 2: 'Additional imaging studies such as ultrasound may be necessary', 3: 'The patient was advised to follow up regularly for monitoring and adjustments'\n",
      "\n",
      "reply:\n",
      "\n",
      "0\n",
      "Original label:  1\n",
      "Context: You are a medical expert who can answer medical related queries. Given the ctx, determine which of the options is correct according to medical science. There are 4 options. Chose the correct one. Answer with only 0,1,2 or 3.\n",
      "\n",
      "ctx: \n",
      "A person sought counseling services to address mental health concerns, including stress and anxiety.\n",
      "\n",
      "options:\n",
      "0: 'The counselor recommended therapy sessions to explore coping mechanisms', 1: 'Developing a self-care routine and engaging in relaxation techniques can be helpful', 2: 'Medication options were discussed for symptom management', 3: 'The person was advised to reach out to a support network for emotional support'\n",
      "\n",
      "reply:\n",
      "\n",
      "The correct answer is:\n",
      "\n",
      "2: Medication options were discussed for symptom management.\n",
      "\n",
      "Explanation:\n",
      "Medication can be a useful tool for managing symptoms of stress and anxiety, such as selective serotonin reuptake inhibitors (SSRIs) or benzodiazepines. While therapy and self-care can also be helpful, medication can provide quick relief for some individuals. Therefore, option 2 is the correct answer.\n",
      "Original label:  2\n",
      "Context: You are a medical expert who can answer medical related queries. Given the ctx, determine which of the options is correct according to medical science. There are 4 options. Chose the correct one. Answer with only 0,1,2 or 3.\n",
      "\n",
      "ctx: \n",
      "An individual visited a sleep specialist due to ongoing difficulties with sleep, such as insomnia or sleep apnea.\n",
      "\n",
      "options:\n",
      "0: 'The sleep specialist recommended a sleep study to evaluate sleep patterns and identify any underlying disorders', 1: 'Behavioral strategies such as establishing a consistent sleep schedule were discussed', 2: 'The use of continuous positive airway pressure (CPAP) devices may be recommended for sleep apnea', 3: 'The individual was advised to limit caffeine intake and create a conducive sleep environment'\n",
      "\n",
      "reply:\n",
      "\n",
      "0\n",
      "Original label:  3\n",
      "Context: You are a medical expert who can answer medical related queries. Given the ctx, determine which of the options is correct according to medical science. There are 4 options. Chose the correct one. Answer with only 0,1,2 or 3.\n",
      "\n",
      "ctx: \n",
      "A person visited a cardiologist for a check-up and to manage their high blood pressure condition.\n",
      "\n",
      "options:\n",
      "0: 'The cardiologist prescribed medication to lower blood pressure', 1: 'Lifestyle modifications such as reducing sodium intake were discussed', 2: 'Regular monitoring of blood pressure and follow-up appointments were recommended', 3: 'The person was advised to engage in regular physical activity for better cardiovascular health'\n",
      "\n",
      "reply:\n",
      "\n",
      "The correct answer is:\n",
      "\n",
      "2: 'Regular monitoring of blood pressure and follow-up appointments were recommended'\n",
      "Original label:  0\n",
      "Context: You are a medical expert who can answer medical related queries. Given the ctx, determine which of the options is correct according to medical science. There are 4 options. Chose the correct one. Answer with only 0,1,2 or 3.\n",
      "\n",
      "ctx: \n",
      "An individual consulted a rheumatologist to seek treatment options and pain management strategies for their arthritis.\n",
      "\n",
      "options:\n",
      "0: 'The rheumatologist recommended nonsteroidal anti-inflammatory drugs (NSAIDs) for pain relief', 1: 'Physical therapy and exercises can help improve joint flexibility', 2: 'Joint injections with corticosteroids may be considered for symptom management', 3: 'The individual was advised to use assistive devices to reduce joint stress'\n",
      "\n",
      "reply:\n",
      "\n",
      "The correct answer is:\n",
      "\n",
      "2: Joint injections with corticosteroids may be considered for symptom management.\n",
      "Original label:  2\n",
      "Context: You are a medical expert who can answer medical related queries. Given the ctx, determine which of the options is correct according to medical science. There are 4 options. Chose the correct one. Answer with only 0,1,2 or 3.\n",
      "\n",
      "ctx: \n",
      "A patient underwent rehabilitation therapy following a stroke to regain motor skills and improve overall functionality.\n",
      "\n",
      "options:\n",
      "0: 'The rehabilitation therapist designed a personalized therapy plan for the patient', 1: 'Mirror therapy and electrical stimulation techniques were used during sessions', 2: 'Adaptive equipment and assistive devices can aid in daily activities', 3: 'The patient was advised to continue therapy exercises at home for better progress'\n",
      "\n",
      "reply:\n",
      "\n",
      "The correct answer is:\n",
      "\n",
      "0\n",
      "Original label:  1\n",
      "Context: You are a medical expert who can answer medical related queries. Given the ctx, determine which of the options is correct according to medical science. There are 4 options. Chose the correct one. Answer with only 0,1,2 or 3.\n",
      "\n",
      "ctx: \n",
      "A person underwent allergy testing to identify specific triggers that worsen their asthma symptoms.\n",
      "\n",
      "options:\n",
      "0: 'The allergist provided a list of common asthma triggers and ways to avoid them', 1: 'Immunotherapy (allergy shots) was discussed as a potential long-term treatment', 2: 'Creating an asthma action plan based on identified triggers was recommended', 3: 'The person was advised to monitor peak flow measurements to track asthma control'\n",
      "\n",
      "reply:\n",
      "\n",
      "The correct answer is: 2: Creating an asthma action plan based on identified triggers was recommended.\n",
      "Original label:  0\n",
      "Context: You are a medical expert who can answer medical related queries. Given the ctx, determine which of the options is correct according to medical science. There are 4 options. Chose the correct one. Answer with only 0,1,2 or 3.\n",
      "\n",
      "ctx: \n",
      "A person attended a mental health awareness event to raise awareness about reducing stigma associated with mental health conditions.\n",
      "\n",
      "options:\n",
      "0: 'The event emphasized the importance of open conversations about mental health', 1: 'Promoting mental health education and resources in the community was discussed', 2: 'Supporting individuals with mental health conditions through empathy and understanding was highlighted', 3: 'The person was advised to engage in advocacy efforts for mental health awareness'\n",
      "\n",
      "reply:\n",
      "\n",
      "The correct answer is: 2: 'Supporting individuals with mental health conditions through empathy and understanding was highlighted'.\n",
      "Original label:  2\n",
      "Context: You are a medical expert who can answer medical related queries. Given the ctx, determine which of the options is correct according to medical science. There are 4 options. Chose the correct one. Answer with only 0,1,2 or 3.\n",
      "\n",
      "ctx: \n",
      "A patient underwent cataract surgery to remove a cloudy lens and improve vision clarity.\n",
      "\n",
      "options:\n",
      "0: 'The ophthalmologist performed phacoemulsification to remove the cataract', 1: 'Intraocular lens (IOL) implantation was done for vision correction', 2: 'Postoperative care instructions such as using eye drops were provided', 3: 'The patient was advised to attend follow-up visits to monitor healing and visual acuity'\n",
      "\n",
      "reply:\n",
      "\n",
      "The correct answer is:\n",
      "\n",
      "0\n",
      "Original label:  1\n",
      "Context: You are a medical expert who can answer medical related queries. Given the ctx, determine which of the options is correct according to medical science. There are 4 options. Chose the correct one. Answer with only 0,1,2 or 3.\n",
      "\n",
      "ctx: \n",
      "An individual experienced an allergic reaction after being exposed to a specific allergen and sought medical attention for immediate treatment.\n",
      "\n",
      "options:\n",
      "0: 'The healthcare provider administered antihistamines and monitored vital signs', 1: 'In severe cases epinephrine injection may be necessary to counteract the allergic reaction', 2: 'Identifying and avoiding the allergen in the future was emphasized', 3: 'The person was advised to carry an epinephrine auto-injector for emergency situations'\n",
      "\n",
      "reply:\n",
      "\n",
      "The correct answer is:\n",
      "\n",
      "1: 'In severe cases epinephrine injection may be necessary to counteract the allergic reaction'\n",
      "Original label:  3\n",
      "Context: You are a medical expert who can answer medical related queries. Given the ctx, determine which of the options is correct according to medical science. There are 4 options. Chose the correct one. Answer with only 0,1,2 or 3.\n",
      "\n",
      "ctx: \n",
      "A patient underwent a gastroenterology evaluation for chronic digestive system disorders, such as irritable bowel syndrome (IBS) or inflammatory bowel disease (IBD).\n",
      "\n",
      "options:\n",
      "0: 'The gastroenterologist recommended dietary modifications such as a low-FODMAP diet for IBS', 1: 'Medications for symptom management and inflammation reduction were prescribed', 2: 'Additional diagnostic tests such as colonoscopy may be necessary for further evaluation', 3: 'The patient was advised to keep a food diary to identify trigger foods'\n",
      "\n",
      "reply:\n",
      "\n",
      "The correct answer is:\n",
      "0\n",
      "Original label:  2\n",
      "Context: You are a medical expert who can answer medical related queries. Given the ctx, determine which of the options is correct according to medical science. There are 4 options. Chose the correct one. Answer with only 0,1,2 or 3.\n",
      "\n",
      "ctx: \n",
      "A person visited a dermatologist due to persistent skin rash and itching, seeking diagnosis and appropriate treatment.\n",
      "\n",
      "options:\n",
      "0: 'The dermatologist conducted a skin examination and ordered additional tests if needed', 1: 'Prescription creams or ointments were prescribed to alleviate symptoms', 2: 'Avoiding potential irritants and maintaining good skincare practices were discussed', 3: 'The person was advised to protect the skin from excessive sun exposure'\n",
      "\n",
      "reply:\n",
      "\n",
      "The correct answer is:\n",
      "0\n",
      "Original label:  0\n",
      "Context: You are a medical expert who can answer medical related queries. Given the ctx, determine which of the options is correct according to medical science. There are 4 options. Chose the correct one. Answer with only 0,1,2 or 3.\n",
      "\n",
      "ctx: \n",
      "A person visited a healthcare clinic to receive routine vaccinations and ensure up-to-date immunization.\n",
      "\n",
      "options:\n",
      "0: 'The healthcare provider administered the recommended vaccines based on age and medical history', 1: 'Educating the person about the importance of vaccinations in preventing infectious diseases was emphasized', 2: 'Potential side effects and post-vaccination care instructions were provided', 3: 'The person was advised to maintain a vaccination record for future reference'\n",
      "\n",
      "reply:\n",
      "\n",
      "\n",
      "\n",
      "\n",
      "\n",
      "\n",
      "\n",
      "\n",
      "\n",
      "\n",
      "\n",
      "\n",
      "\n",
      "\n",
      "\n",
      "\n",
      "\n",
      "\n",
      "\n",
      "\n",
      "\n",
      "\n",
      "\n",
      "\n",
      "\n",
      "\n",
      "\n",
      "\n",
      "\n",
      "\n",
      "\n",
      "\n",
      "\n",
      "\n",
      "\n",
      "\n",
      "\n",
      "\n",
      "\n",
      "\n",
      "\n",
      "\n",
      "\n",
      "\n",
      "\n",
      "\n",
      "\n",
      "\n",
      "\n",
      "\n",
      "\n",
      "\n",
      "\n",
      "\n",
      "\n",
      "\n",
      "\n",
      "\n",
      "\n",
      "\n",
      "\n",
      "\n",
      "\n",
      "\n",
      "\n",
      "\n",
      "\n",
      "\n",
      "\n",
      "\n",
      "\n",
      "\n",
      "\n",
      "\n",
      "\n",
      "\n",
      "\n",
      "\n",
      "\n",
      "\n",
      "\n",
      "\n",
      "\n",
      "\n",
      "\n",
      "\n",
      "\n",
      "\n",
      "\n",
      "\n",
      "\n",
      "\n",
      "\n",
      "\n",
      "\n",
      "\n",
      "\n",
      "\n",
      "\n",
      "\n",
      "\n",
      "\n",
      "\n",
      "\n",
      "\n",
      "\n",
      "\n",
      "\n",
      "\n",
      "\n",
      "\n",
      "\n",
      "\n",
      "\n",
      "\n",
      "\n",
      "\n",
      "\n",
      "\n",
      "\n",
      "\n",
      "\n",
      "\n",
      "\n",
      "\n",
      "\n",
      "\n",
      "\n",
      "\n",
      "\n",
      "\n",
      "\n",
      "\n",
      "\n",
      "\n",
      "\n",
      "\n",
      "\n",
      "\n",
      "\n",
      "\n",
      "\n",
      "\n",
      "\n",
      "\n",
      "\n",
      "\n",
      "\n",
      "\n",
      "\n",
      "\n",
      "\n",
      "\n",
      "\n",
      "\n",
      "\n",
      "\n",
      "\n",
      "\n",
      "\n",
      "\n",
      "\n",
      "\n",
      "\n",
      "\n",
      "\n",
      "\n",
      "\n",
      "\n",
      "\n",
      "\n",
      "\n",
      "\n",
      "\n",
      "\n",
      "\n",
      "\n",
      "\n",
      "\n",
      "\n",
      "\n",
      "\n",
      "\n",
      "\n",
      "\n",
      "\n",
      "\n",
      "\n",
      "\n",
      "\n",
      "\n",
      "\n",
      "\n",
      "\n",
      "\n",
      "\n",
      "\n",
      "\n",
      "\n",
      "\n",
      "\n",
      "\n",
      "\n",
      "\n",
      "\n",
      "\n",
      "\n",
      "\n",
      "\n",
      "\n",
      "\n",
      "\n",
      "\n",
      "\n",
      "\n",
      "\n",
      "\n",
      "\n",
      "\n",
      "\n",
      "\n",
      "\n",
      "\n",
      "\n",
      "\n",
      "\n",
      "\n",
      "\n",
      "\n",
      "\n",
      "\n",
      "\n",
      "\n",
      "\n",
      "\n",
      "\n",
      "\n",
      "\n",
      "\n",
      "\n",
      "\n",
      "\n",
      "\n",
      "\n",
      "\n",
      "\n",
      "\n",
      "\n",
      "\n",
      "\n",
      "\n",
      "\n",
      "\n",
      "\n",
      "\n",
      "\n",
      "\n",
      "\n",
      "\n",
      "\n",
      "\n",
      "\n",
      "\n",
      "\n",
      "\n",
      "\n",
      "\n",
      "\n",
      "\n",
      "\n",
      "\n",
      "\n",
      "\n",
      "\n",
      "\n",
      "\n",
      "\n",
      "\n",
      "\n",
      "\n",
      "\n",
      "\n",
      "\n",
      "\n",
      "\n",
      "\n",
      "\n",
      "\n",
      "\n",
      "\n",
      "\n",
      "\n",
      "\n",
      "\n",
      "\n",
      "\n",
      "\n",
      "\n",
      "\n",
      "\n",
      "\n",
      "\n",
      "\n",
      "\n",
      "\n",
      "\n",
      "\n",
      "\n",
      "\n",
      "\n",
      "\n",
      "\n",
      "\n",
      "\n",
      "\n",
      "\n",
      "\n",
      "\n",
      "\n",
      "\n",
      "\n",
      "\n",
      "\n",
      "\n",
      "\n",
      "\n",
      "\n",
      "\n",
      "\n",
      "\n",
      "\n",
      "\n",
      "\n",
      "\n",
      "\n",
      "\n",
      "\n",
      "\n",
      "\n",
      "\n",
      "\n",
      "\n",
      "\n",
      "\n",
      "\n",
      "\n",
      "\n",
      "\n",
      "\n",
      "\n",
      "\n",
      "\n",
      "\n",
      "\n",
      "\n",
      "\n",
      "\n",
      "\n",
      "\n",
      "\n",
      "\n",
      "\n",
      "\n",
      "\n",
      "\n",
      "\n",
      "\n",
      "\n",
      "\n",
      "\n",
      "\n",
      "\n",
      "\n",
      "\n",
      "\n",
      "\n",
      "\n",
      "\n",
      "\n",
      "\n",
      "\n",
      "\n",
      "\n",
      "\n",
      "\n",
      "\n",
      "\n",
      "\n",
      "\n",
      "\n",
      "\n",
      "\n",
      "\n",
      "\n",
      "\n",
      "\n",
      "\n",
      "\n",
      "\n",
      "\n",
      "Original label:  3\n",
      "Context: You are a medical expert who can answer medical related queries. Given the ctx, determine which of the options is correct according to medical science. There are 4 options. Chose the correct one. Answer with only 0,1,2 or 3.\n",
      "\n",
      "ctx: \n",
      "A patient underwent knee replacement surgery to relieve chronic pain and improve mobility in the affected joint.\n",
      "\n",
      "options:\n",
      "0: 'The orthopedic surgeon replaced the damaged knee joint with a prosthetic implant', 1: 'Physical therapy and rehabilitation were recommended for post-surgery recovery', 2: 'Pain management strategies including medication were discussed', 3: \"The patient was advised to follow the surgeon's instructions for proper wound care\"\n",
      "\n",
      "reply:\n",
      "\n",
      "The correct answer is:\n",
      "0\n",
      "Original label:  1\n"
     ]
    }
   ],
   "source": [
    "for i in range(30,50):\n",
    "    print(generate_response(df[\"ctx_a\"].iloc[i], df[\"cleaned_endings\"].iloc[i].replace(\"{\",\"\").replace(\"}\",\"\"))), print(\"Original label: \", df[\"label\"].iloc[i])"
   ]
  },
  {
   "cell_type": "markdown",
   "metadata": {},
   "source": [
    "Context: You are a medical expert who can answer medical related queries. Given the ctx, determine which of the options is correct according to medical science. There are 4 options. Chose the correct one. Answer with only 0,1,2 or 3.\n",
    "\n",
    "ctx: \n",
    "A person consulted a nutritionist to develop a balanced and healthy diet plan for weight management and overall well-being.\n",
    "\n",
    "options:\n",
    "0: 'The nutritionist emphasized the importance of consuming a variety of fruits and vegetables', 1: 'Portion control and mindful eating practices were discussed', 2: 'Including lean protein sources and whole grains in meals is recommended', 3: 'The person was advised to stay hydrated and limit intake of processed foods'\n",
    "\n",
    "reply:\n",
    "\n",
    "The correct answer is:\n",
    "\n",
    "2: 'Including lean protein sources and whole grains in meals is recommended'\n",
    "Original label:  2\n",
    "Context: You are a medical expert who can answer medical related queries. Given the ctx, determine which of the options is correct according to medical science. There are 4 options. Chose the correct one. Answer with only 0,1,2 or 3.\n",
    "\n",
    "ctx: \n",
    "A person visited a primary care physician with symptoms of a common cold, including a runny nose and sore throat.\n",
    "\n",
    "options:\n",
    "0: 'The primary care physician recommended over-the-counter cold medications for symptom relief', 1: 'Rest and staying hydrated are crucial for recovery', 2: 'Gargling with warm saltwater can help soothe a sore throat', 3: 'The person was advised to cover the mouth and nose when coughing or sneezing'\n",
    "\n",
    "reply:\n",
    "\n",
    "The correct answer is:\n",
    "0\n",
    "Original label:  0\n",
    "Context: You are a medical expert who can answer medical related queries. Given the ctx, determine which of the options is correct according to medical science. There are 4 options. Chose the correct one. Answer with only 0,1,2 or 3.\n",
    "\n",
    "ctx: \n",
    "A patient sought medical attention after experiencing a fall and suspected a possible fracture in their arm.\n",
    "\n",
    "options:\n",
    "0: 'The healthcare provider ordered an X-ray to confirm the presence of a fracture', 1: 'Immobilization using a cast or splint may be necessary for proper healing', 2: 'Pain medication was prescribed for pain management', 3: 'Surgical intervention may be required for severe fractures'\n",
    "\n",
    "reply:\n",
    "\n",
    "The correct answer is:\n",
    "0\n",
    "Original label:  2\n",
    "Context: You are a medical expert who can answer medical related queries. Given the ctx, determine which of the options is correct according to medical science. There are 4 options. Chose the correct one. Answer with only 0,1,2 or 3.\n",
    "\n",
    "ctx: \n",
    "An individual consulted a dietitian to develop a personalized weight loss plan and adopt healthier lifestyle habits.\n",
    "\n",
    "options:\n",
    "0: 'The dietitian recommended a combination of a balanced diet and regular physical activity', 1: 'Setting realistic goals and tracking progress can help with motivation', 2: 'Behavioral strategies such as mindful eating were discussed', 3: 'The individual was advised to seek social support and accountability for successful weight loss'\n",
    "\n",
    "reply:\n",
    "\n",
    "0\n",
    "Original label:  1\n",
    "Context: You are a medical expert who can answer medical related queries. Given the ctx, determine which of the options is correct according to medical science. There are 4 options. Chose the correct one. Answer with only 0,1,2 or 3.\n",
    "\n",
    "ctx: \n",
    "A person visited a neurologist after sustaining a head injury and experiencing symptoms of a concussion.\n",
    "\n",
    "options:\n",
    "0: 'The neurologist advised rest and avoiding activities that worsen symptoms', 1: 'Gradual return to physical and cognitive activities was discussed', 2: 'Monitoring for any signs of worsening symptoms is important', 3: 'The person was advised to seek medical attention if symptoms persist or worsen'\n",
    "\n",
    "reply:\n",
    "\n",
    "The correct answer is (3) The person was advised to seek medical attention if symptoms persist or worsen.\n",
    "Original label:  3\n",
    "Context: You are a medical expert who can answer medical related queries. Given the ctx, determine which of the options is correct according to medical science. There are 4 options. Chose the correct one. Answer with only 0,1,2 or 3.\n",
    "\n",
    "ctx: \n",
    "An individual went to an optometrist to have their vision checked and discuss options for vision correction.\n",
    "\n",
    "options:\n",
    "0: 'The optometrist prescribed corrective lenses for improved vision', 1: 'Contact lenses were recommended as an alternative to glasses', 2: 'Discussing refractive surgery options such as LASIK was part of the consultation', 3: 'The individual was advised to schedule regular eye exams for ongoing vision care'\n",
    "\n",
    "reply:\n",
    "\n",
    "The correct answer is:\n",
    "\n",
    "2: 'Discussing refractive surgery options such as LASIK was part of the consultation'\n",
    "Original label:  0\n",
    "Context: You are a medical expert who can answer medical related queries. Given the ctx, determine which of the options is correct according to medical science. There are 4 options. Chose the correct one. Answer with only 0,1,2 or 3.\n",
    "\n",
    "ctx: \n",
    "A patient consulted an endocrinologist for evaluation and management of a suspected thyroid disorder.\n",
    "\n",
    "options:\n",
    "0: 'The endocrinologist ordered blood tests to assess thyroid hormone levels', 1: 'Medication for thyroid hormone replacement was prescribed', 2: 'Additional imaging studies such as ultrasound may be necessary', 3: 'The patient was advised to follow up regularly for monitoring and adjustments'\n",
    "\n",
    "reply:\n",
    "\n",
    "0\n",
    "Original label:  1\n",
    "Context: You are a medical expert who can answer medical related queries. Given the ctx, determine which of the options is correct according to medical science. There are 4 options. Chose the correct one. Answer with only 0,1,2 or 3.\n",
    "\n",
    "ctx: \n",
    "A person sought counseling services to address mental health concerns, including stress and anxiety.\n",
    "\n",
    "options:\n",
    "0: 'The counselor recommended therapy sessions to explore coping mechanisms', 1: 'Developing a self-care routine and engaging in relaxation techniques can be helpful', 2: 'Medication options were discussed for symptom management', 3: 'The person was advised to reach out to a support network for emotional support'\n",
    "\n",
    "reply:\n",
    "\n",
    "The correct answer is:\n",
    "\n",
    "2: Medication options were discussed for symptom management.\n",
    "\n",
    "Explanation:\n",
    "Medication can be a useful tool for managing symptoms of stress and anxiety, such as selective serotonin reuptake inhibitors (SSRIs) or benzodiazepines. While therapy and self-care can also be helpful, medication can provide quick relief for some individuals. Therefore, option 2 is the correct answer.\n",
    "Original label:  2\n",
    "Context: You are a medical expert who can answer medical related queries. Given the ctx, determine which of the options is correct according to medical science. There are 4 options. Chose the correct one. Answer with only 0,1,2 or 3.\n",
    "\n",
    "ctx: \n",
    "An individual visited a sleep specialist due to ongoing difficulties with sleep, such as insomnia or sleep apnea.\n",
    "\n",
    "options:\n",
    "0: 'The sleep specialist recommended a sleep study to evaluate sleep patterns and identify any underlying disorders', 1: 'Behavioral strategies such as establishing a consistent sleep schedule were discussed', 2: 'The use of continuous positive airway pressure (CPAP) devices may be recommended for sleep apnea', 3: 'The individual was advised to limit caffeine intake and create a conducive sleep environment'\n",
    "\n",
    "reply:\n",
    "\n",
    "0\n",
    "Original label:  3\n",
    "Context: You are a medical expert who can answer medical related queries. Given the ctx, determine which of the options is correct according to medical science. There are 4 options. Chose the correct one. Answer with only 0,1,2 or 3.\n",
    "\n",
    "ctx: \n",
    "A person visited a cardiologist for a check-up and to manage their high blood pressure condition.\n",
    "\n",
    "options:\n",
    "0: 'The cardiologist prescribed medication to lower blood pressure', 1: 'Lifestyle modifications such as reducing sodium intake were discussed', 2: 'Regular monitoring of blood pressure and follow-up appointments were recommended', 3: 'The person was advised to engage in regular physical activity for better cardiovascular health'\n",
    "\n",
    "reply:\n",
    "\n",
    "The correct answer is:\n",
    "\n",
    "2: 'Regular monitoring of blood pressure and follow-up appointments were recommended'\n",
    "Original label:  0\n",
    "Context: You are a medical expert who can answer medical related queries. Given the ctx, determine which of the options is correct according to medical science. There are 4 options. Chose the correct one. Answer with only 0,1,2 or 3.\n",
    "\n",
    "ctx: \n",
    "An individual consulted a rheumatologist to seek treatment options and pain management strategies for their arthritis.\n",
    "\n",
    "options:\n",
    "0: 'The rheumatologist recommended nonsteroidal anti-inflammatory drugs (NSAIDs) for pain relief', 1: 'Physical therapy and exercises can help improve joint flexibility', 2: 'Joint injections with corticosteroids may be considered for symptom management', 3: 'The individual was advised to use assistive devices to reduce joint stress'\n",
    "\n",
    "reply:\n",
    "\n",
    "The correct answer is:\n",
    "\n",
    "2: Joint injections with corticosteroids may be considered for symptom management.\n",
    "Original label:  2\n",
    "Context: You are a medical expert who can answer medical related queries. Given the ctx, determine which of the options is correct according to medical science. There are 4 options. Chose the correct one. Answer with only 0,1,2 or 3.\n",
    "\n",
    "ctx: \n",
    "A patient underwent rehabilitation therapy following a stroke to regain motor skills and improve overall functionality.\n",
    "\n",
    "options:\n",
    "0: 'The rehabilitation therapist designed a personalized therapy plan for the patient', 1: 'Mirror therapy and electrical stimulation techniques were used during sessions', 2: 'Adaptive equipment and assistive devices can aid in daily activities', 3: 'The patient was advised to continue therapy exercises at home for better progress'\n",
    "\n",
    "reply:\n",
    "\n",
    "The correct answer is:\n",
    "\n",
    "0\n",
    "Original label:  1\n",
    "Context: You are a medical expert who can answer medical related queries. Given the ctx, determine which of the options is correct according to medical science. There are 4 options. Chose the correct one. Answer with only 0,1,2 or 3.\n",
    "\n",
    "ctx: \n",
    "A person underwent allergy testing to identify specific triggers that worsen their asthma symptoms.\n",
    "\n",
    "options:\n",
    "0: 'The allergist provided a list of common asthma triggers and ways to avoid them', 1: 'Immunotherapy (allergy shots) was discussed as a potential long-term treatment', 2: 'Creating an asthma action plan based on identified triggers was recommended', 3: 'The person was advised to monitor peak flow measurements to track asthma control'\n",
    "\n",
    "reply:\n",
    "\n",
    "The correct answer is: 2: Creating an asthma action plan based on identified triggers was recommended.\n",
    "Original label:  0\n",
    "Context: You are a medical expert who can answer medical related queries. Given the ctx, determine which of the options is correct according to medical science. There are 4 options. Chose the correct one. Answer with only 0,1,2 or 3.\n",
    "\n",
    "ctx: \n",
    "A person attended a mental health awareness event to raise awareness about reducing stigma associated with mental health conditions.\n",
    "\n",
    "options:\n",
    "0: 'The event emphasized the importance of open conversations about mental health', 1: 'Promoting mental health education and resources in the community was discussed', 2: 'Supporting individuals with mental health conditions through empathy and understanding was highlighted', 3: 'The person was advised to engage in advocacy efforts for mental health awareness'\n",
    "\n",
    "reply:\n",
    "\n",
    "The correct answer is: 2: 'Supporting individuals with mental health conditions through empathy and understanding was highlighted'.\n",
    "Original label:  2\n",
    "Context: You are a medical expert who can answer medical related queries. Given the ctx, determine which of the options is correct according to medical science. There are 4 options. Chose the correct one. Answer with only 0,1,2 or 3.\n",
    "\n",
    "ctx: \n",
    "A patient underwent cataract surgery to remove a cloudy lens and improve vision clarity.\n",
    "\n",
    "options:\n",
    "0: 'The ophthalmologist performed phacoemulsification to remove the cataract', 1: 'Intraocular lens (IOL) implantation was done for vision correction', 2: 'Postoperative care instructions such as using eye drops were provided', 3: 'The patient was advised to attend follow-up visits to monitor healing and visual acuity'\n",
    "\n",
    "reply:\n",
    "\n",
    "The correct answer is:\n",
    "\n",
    "0\n",
    "Original label:  1\n",
    "Context: You are a medical expert who can answer medical related queries. Given the ctx, determine which of the options is correct according to medical science. There are 4 options. Chose the correct one. Answer with only 0,1,2 or 3.\n",
    "\n",
    "ctx: \n",
    "An individual experienced an allergic reaction after being exposed to a specific allergen and sought medical attention for immediate treatment.\n",
    "\n",
    "options:\n",
    "0: 'The healthcare provider administered antihistamines and monitored vital signs', 1: 'In severe cases epinephrine injection may be necessary to counteract the allergic reaction', 2: 'Identifying and avoiding the allergen in the future was emphasized', 3: 'The person was advised to carry an epinephrine auto-injector for emergency situations'\n",
    "\n",
    "reply:\n",
    "\n",
    "The correct answer is:\n",
    "\n",
    "1: 'In severe cases epinephrine injection may be necessary to counteract the allergic reaction'\n",
    "Original label:  3\n",
    "Context: You are a medical expert who can answer medical related queries. Given the ctx, determine which of the options is correct according to medical science. There are 4 options. Chose the correct one. Answer with only 0,1,2 or 3.\n",
    "\n",
    "ctx: \n",
    "A patient underwent a gastroenterology evaluation for chronic digestive system disorders, such as irritable bowel syndrome (IBS) or inflammatory bowel disease (IBD).\n",
    "\n",
    "options:\n",
    "0: 'The gastroenterologist recommended dietary modifications such as a low-FODMAP diet for IBS', 1: 'Medications for symptom management and inflammation reduction were prescribed', 2: 'Additional diagnostic tests such as colonoscopy may be necessary for further evaluation', 3: 'The patient was advised to keep a food diary to identify trigger foods'\n",
    "\n",
    "reply:\n",
    "\n",
    "The correct answer is:\n",
    "0\n",
    "Original label:  2\n",
    "Context: You are a medical expert who can answer medical related queries. Given the ctx, determine which of the options is correct according to medical science. There are 4 options. Chose the correct one. Answer with only 0,1,2 or 3.\n",
    "\n",
    "ctx: \n",
    "A person visited a dermatologist due to persistent skin rash and itching, seeking diagnosis and appropriate treatment.\n",
    "\n",
    "options:\n",
    "0: 'The dermatologist conducted a skin examination and ordered additional tests if needed', 1: 'Prescription creams or ointments were prescribed to alleviate symptoms', 2: 'Avoiding potential irritants and maintaining good skincare practices were discussed', 3: 'The person was advised to protect the skin from excessive sun exposure'\n",
    "\n",
    "reply:\n",
    "\n",
    "The correct answer is:\n",
    "0\n",
    "Original label:  0\n",
    "Context: You are a medical expert who can answer medical related queries. Given the ctx, determine which of the options is correct according to medical science. There are 4 options. Chose the correct one. Answer with only 0,1,2 or 3.\n",
    "\n",
    "ctx: \n",
    "A person visited a healthcare clinic to receive routine vaccinations and ensure up-to-date immunization.\n",
    "\n",
    "options:\n",
    "0: 'The healthcare provider administered the recommended vaccines based on age and medical history', 1: 'Educating the person about the importance of vaccinations in preventing infectious diseases was emphasized', 2: 'Potential side effects and post-vaccination care instructions were provided', 3: 'The person was advised to maintain a vaccination record for future reference'\n",
    "\n",
    "reply:\n",
    "\n",
    "\n",
    "\n",
    "\n",
    "\n",
    "\n",
    "\n",
    "\n",
    "\n",
    "\n",
    "\n",
    "\n",
    "\n",
    "\n",
    "\n",
    "\n",
    "\n",
    "\n",
    "\n",
    "\n",
    "\n",
    "\n",
    "\n",
    "\n",
    "\n",
    "\n",
    "\n",
    "\n",
    "\n",
    "\n",
    "\n",
    "\n",
    "\n",
    "\n",
    "\n",
    "\n",
    "\n",
    "\n",
    "\n",
    "\n",
    "\n",
    "\n",
    "\n",
    "\n",
    "\n",
    "\n",
    "\n",
    "\n",
    "\n",
    "\n",
    "\n",
    "\n",
    "\n",
    "\n",
    "\n",
    "\n",
    "\n",
    "\n",
    "\n",
    "\n",
    "\n",
    "\n",
    "\n",
    "\n",
    "\n",
    "\n",
    "\n",
    "\n",
    "\n",
    "\n",
    "\n",
    "\n",
    "\n",
    "\n",
    "\n",
    "\n",
    "\n",
    "\n",
    "\n",
    "\n",
    "\n",
    "\n",
    "\n",
    "\n",
    "\n",
    "\n",
    "\n",
    "\n",
    "\n",
    "\n",
    "\n",
    "\n",
    "\n",
    "\n",
    "\n",
    "\n",
    "\n",
    "\n",
    "\n",
    "\n",
    "\n",
    "\n",
    "\n",
    "\n",
    "\n",
    "\n",
    "\n",
    "\n",
    "\n",
    "\n",
    "\n",
    "\n",
    "\n",
    "\n",
    "\n",
    "\n",
    "\n",
    "\n",
    "\n",
    "\n",
    "\n",
    "\n",
    "\n",
    "\n",
    "\n",
    "\n",
    "\n",
    "\n",
    "\n",
    "\n",
    "\n",
    "\n",
    "\n",
    "\n",
    "\n",
    "\n",
    "\n",
    "\n",
    "\n",
    "\n",
    "\n",
    "\n",
    "\n",
    "\n",
    "\n",
    "\n",
    "\n",
    "\n",
    "\n",
    "\n",
    "\n",
    "\n",
    "\n",
    "\n",
    "\n",
    "\n",
    "\n",
    "\n",
    "\n",
    "\n",
    "\n",
    "\n",
    "\n",
    "\n",
    "\n",
    "\n",
    "\n",
    "\n",
    "\n",
    "\n",
    "\n",
    "\n",
    "\n",
    "\n",
    "\n",
    "\n",
    "\n",
    "\n",
    "\n",
    "\n",
    "\n",
    "\n",
    "\n",
    "\n",
    "\n",
    "\n",
    "\n",
    "\n",
    "\n",
    "\n",
    "\n",
    "\n",
    "\n",
    "\n",
    "\n",
    "\n",
    "\n",
    "\n",
    "\n",
    "\n",
    "\n",
    "\n",
    "\n",
    "\n",
    "\n",
    "\n",
    "\n",
    "\n",
    "\n",
    "\n",
    "\n",
    "\n",
    "\n",
    "\n",
    "\n",
    "\n",
    "\n",
    "\n",
    "\n",
    "\n",
    "\n",
    "\n",
    "\n",
    "\n",
    "\n",
    "\n",
    "\n",
    "\n",
    "\n",
    "\n",
    "\n",
    "\n",
    "\n",
    "\n",
    "\n",
    "\n",
    "\n",
    "\n",
    "\n",
    "\n",
    "\n",
    "\n",
    "\n",
    "\n",
    "\n",
    "\n",
    "\n",
    "\n",
    "\n",
    "\n",
    "\n",
    "\n",
    "\n",
    "\n",
    "\n",
    "\n",
    "\n",
    "\n",
    "\n",
    "\n",
    "\n",
    "\n",
    "\n",
    "\n",
    "\n",
    "\n",
    "\n",
    "\n",
    "\n",
    "\n",
    "\n",
    "\n",
    "\n",
    "\n",
    "\n",
    "\n",
    "\n",
    "\n",
    "\n",
    "\n",
    "\n",
    "\n",
    "\n",
    "\n",
    "\n",
    "\n",
    "\n",
    "\n",
    "\n",
    "\n",
    "\n",
    "\n",
    "\n",
    "\n",
    "\n",
    "\n",
    "\n",
    "\n",
    "\n",
    "\n",
    "\n",
    "\n",
    "\n",
    "\n",
    "\n",
    "\n",
    "\n",
    "\n",
    "\n",
    "\n",
    "\n",
    "\n",
    "\n",
    "\n",
    "\n",
    "\n",
    "\n",
    "\n",
    "\n",
    "\n",
    "\n",
    "\n",
    "\n",
    "\n",
    "\n",
    "\n",
    "\n",
    "\n",
    "\n",
    "\n",
    "\n",
    "\n",
    "\n",
    "\n",
    "\n",
    "\n",
    "\n",
    "\n",
    "\n",
    "\n",
    "\n",
    "\n",
    "\n",
    "\n",
    "\n",
    "\n",
    "\n",
    "\n",
    "\n",
    "\n",
    "\n",
    "\n",
    "\n",
    "\n",
    "\n",
    "\n",
    "\n",
    "\n",
    "\n",
    "\n",
    "\n",
    "\n",
    "\n",
    "\n",
    "\n",
    "\n",
    "\n",
    "\n",
    "\n",
    "\n",
    "\n",
    "\n",
    "\n",
    "\n",
    "\n",
    "\n",
    "\n",
    "\n",
    "\n",
    "\n",
    "\n",
    "\n",
    "\n",
    "\n",
    "\n",
    "\n",
    "\n",
    "\n",
    "\n",
    "\n",
    "\n",
    "\n",
    "\n",
    "\n",
    "\n",
    "\n",
    "\n",
    "\n",
    "\n",
    "\n",
    "Original label:  3\n",
    "Context: You are a medical expert who can answer medical related queries. Given the ctx, determine which of the options is correct according to medical science. There are 4 options. Chose the correct one. Answer with only 0,1,2 or 3.\n",
    "\n",
    "ctx: \n",
    "A patient underwent knee replacement surgery to relieve chronic pain and improve mobility in the affected joint.\n",
    "\n",
    "options:\n",
    "0: 'The orthopedic surgeon replaced the damaged knee joint with a prosthetic implant', 1: 'Physical therapy and rehabilitation were recommended for post-surgery recovery', 2: 'Pain management strategies including medication were discussed', 3: \"The patient was advised to follow the surgeon's instructions for proper wound care\"\n",
    "\n",
    "reply:\n",
    "\n",
    "The correct answer is:\n",
    "0\n",
    "Original label:  1\n"
   ]
  },
  {
   "cell_type": "markdown",
   "metadata": {},
   "source": [
    "7 out of 20"
   ]
  },
  {
   "cell_type": "markdown",
   "metadata": {},
   "source": [
    "## Result of LLama-2-7b-chat-hf"
   ]
  },
  {
   "cell_type": "markdown",
   "metadata": {},
   "source": [
    "Total Questions: 50 \n",
    "Correct Answers: 20\n",
    "Wrong Answers: 30"
   ]
  }
 ],
 "metadata": {
  "kernelspec": {
   "display_name": "medalpaca",
   "language": "python",
   "name": "python3"
  },
  "language_info": {
   "codemirror_mode": {
    "name": "ipython",
    "version": 3
   },
   "file_extension": ".py",
   "mimetype": "text/x-python",
   "name": "python",
   "nbconvert_exporter": "python",
   "pygments_lexer": "ipython3",
   "version": "3.9.0"
  },
  "orig_nbformat": 4
 },
 "nbformat": 4,
 "nbformat_minor": 2
}
