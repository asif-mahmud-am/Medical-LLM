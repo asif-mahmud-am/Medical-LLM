{
 "cells": [
  {
   "cell_type": "code",
   "execution_count": 1,
   "metadata": {},
   "outputs": [
    {
     "name": "stderr",
     "output_type": "stream",
     "text": [
      "/home/asif/anaconda3/envs/medalpaca/lib/python3.9/site-packages/tqdm/auto.py:21: TqdmWarning: IProgress not found. Please update jupyter and ipywidgets. See https://ipywidgets.readthedocs.io/en/stable/user_install.html\n",
      "  from .autonotebook import tqdm as notebook_tqdm\n"
     ]
    }
   ],
   "source": [
    "import os\n",
    "import bitsandbytes as bnb\n",
    "import pandas as pd\n",
    "import torch\n",
    "import torch.nn as nn\n",
    "import transformers\n",
    "from datasets import load_dataset\n",
    "from huggingface_hub import notebook_login\n",
    "from peft import (\n",
    "    LoraConfig,\n",
    "    PeftConfig,\n",
    "    get_peft_model,\n",
    "    prepare_model_for_kbit_training,\n",
    ")\n",
    "from transformers import (\n",
    "    AutoConfig,\n",
    "    AutoModelForCausalLM,\n",
    "    AutoTokenizer,\n",
    "    BitsAndBytesConfig,\n",
    ")"
   ]
  },
  {
   "cell_type": "code",
   "execution_count": 2,
   "metadata": {},
   "outputs": [],
   "source": [
    "from peft import *"
   ]
  },
  {
   "cell_type": "code",
   "execution_count": 3,
   "metadata": {},
   "outputs": [
    {
     "name": "stderr",
     "output_type": "stream",
     "text": [
      "Loading checkpoint shards: 100%|██████████| 6/6 [00:24<00:00,  4.00s/it]\n",
      "You are using the legacy behaviour of the <class 'transformers.models.llama.tokenization_llama.LlamaTokenizer'>. This means that tokens that come after special tokens will not be properly handled. We recommend you to read the related pull request available at https://github.com/huggingface/transformers/pull/24565\n"
     ]
    }
   ],
   "source": [
    "model = AutoModelForCausalLM.from_pretrained(\n",
    "    # config.base_model_name_or_path,\n",
    "    \"/home/asif/llm/model/medalpaca-13b\",\n",
    "    load_in_8bit=True,\n",
    "    return_dict=True,\n",
    "    # quantization_config=bnb_config,\n",
    "    device_map=\"auto\",\n",
    "    trust_remote_code=True,\n",
    ")\n",
    "# tokenizer = AutoTokenizer.from_pretrained(config.base_model_name_or_path)\n",
    "tokenizer = AutoTokenizer.from_pretrained(\"/home/asif/llm/model/medalpaca-13b\")\n",
    "tokenizer.pad_token = tokenizer.eos_token"
   ]
  },
  {
   "cell_type": "markdown",
   "metadata": {},
   "source": [
    "Memory taken : 14GB "
   ]
  },
  {
   "cell_type": "code",
   "execution_count": 4,
   "metadata": {},
   "outputs": [],
   "source": [
    "generation_config = model.generation_config\n",
    "generation_config.max_new_tokens = 400\n",
    "generation_config_temperature = 0.3\n",
    "generation_config.top_p = 0.9\n",
    "generation_config.num_return_sequences = 1\n",
    "generation_config.pad_token_id = tokenizer.eos_token_id\n",
    "generation_config_eod_token_id = tokenizer.eos_token_id"
   ]
  },
  {
   "cell_type": "code",
   "execution_count": 5,
   "metadata": {},
   "outputs": [],
   "source": [
    "DEVICE = \"cuda\""
   ]
  },
  {
   "cell_type": "code",
   "execution_count": 6,
   "metadata": {},
   "outputs": [],
   "source": [
    "def generate_response(ctx: str, options: str) -> str:\n",
    "    prompt = f\"\"\"You are a medical expert who can answer medical related queries. Given the ctx, determine which of the options is correct by doing medical analysis. Answer with only 0,1,2 or 3.\n",
    "\n",
    "ctx: \n",
    "{ctx}\n",
    "\n",
    "options:\n",
    "{options}\n",
    "\n",
    "reply: \n",
    "    \"\"\".strip()\n",
    "    encoding = tokenizer(prompt, return_tensors=\"pt\").to(DEVICE)\n",
    "    with torch.inference_mode():\n",
    "        outputs = model.generate(\n",
    "            input_ids=encoding.input_ids,\n",
    "            attention_mask=encoding.attention_mask,\n",
    "            generation_config=generation_config,\n",
    "        )\n",
    "    response = tokenizer.decode(outputs[0],skip_special_tokens=True)\n",
    "\n",
    "    # assistant_start = '<assistant>:'\n",
    "    # response_start = response.find(assistant_start)\n",
    "    # return response[response_start + len(assistant_start):].strip()\n",
    "    return response"
   ]
  },
  {
   "cell_type": "code",
   "execution_count": 7,
   "metadata": {},
   "outputs": [
    {
     "name": "stdout",
     "output_type": "stream",
     "text": [
      "You are a medical expert who can answer medical related queries. Given the ctx, determine which of the options is correct by doing medical analysis. Answer with only 0,1,2 or 3.\n",
      "\n",
      "ctx: \n",
      "The patient came to the doctor complaining of a persistent headache for the past week.\n",
      "\n",
      "options:\n",
      "0: 'The doctor recommended a brain scan to rule out any underlying issues', 1: 'The patient was advised to take painkillers and get plenty of rest', 2: 'The doctor suggested trying acupuncture as an alternative treatment', 3: 'The patient was referred to a neurologist for further examination'\n",
      "\n",
      "reply:\n",
      "\"I'm sorry, but you need to see a neurologist.\"\n"
     ]
    }
   ],
   "source": [
    "print(generate_response(\"The patient came to the doctor complaining of a persistent headache for the past week.\",\"0: 'The doctor recommended a brain scan to rule out any underlying issues', 1: 'The patient was advised to take painkillers and get plenty of rest', 2: 'The doctor suggested trying acupuncture as an alternative treatment', 3: 'The patient was referred to a neurologist for further examination'\"))"
   ]
  },
  {
   "cell_type": "markdown",
   "metadata": {},
   "source": [
    "Output: 3 ===== Original: 0"
   ]
  },
  {
   "cell_type": "code",
   "execution_count": 8,
   "metadata": {},
   "outputs": [
    {
     "name": "stdout",
     "output_type": "stream",
     "text": [
      "You are a medical expert who can answer medical related queries. Given the ctx, determine which of the options is correct by doing medical analysis. Answer with only 0,1,2 or 3.\n",
      "\n",
      "ctx: \n",
      "A young child has been experiencing a cough, runny nose, and sneezing for the past two days.\n",
      "\n",
      "options:\n",
      "{0: 'The doctor prescribed a cough syrup and advised plenty of fluids', 1: 'The child should avoid exposure to cold temperatures and rest', 2: 'Nasal saline drops can help relieve congestion', 3: 'The doctor recommended a throat swab for a strep test'}\n",
      "\n",
      "reply: {0: 'The doctor prescribed a cough syrup and recommended plenty of fluids.'}\n",
      "\n",
      "{0: 'The doctor prescribed a cough syrup and recommended plenty of fluids.'}\n",
      "{0: 'The doctor prescribed a cough syrup and recommended plenty of fluids.'}\n",
      "{0: 'The doctor prescribed a cough syrup and recommended plenty of fluids.'}\n",
      "{0: 'The doctor prescribed a cough syrup and recommended plenty of fluids.'}\n",
      "{0: 'The doctor prescribed a cough syrup and recommended plenty of fluids.'}\n",
      "{0: 'The doctor prescribed a cough syrup and recommended plenty of fluids.'}\n",
      "{0: 'The doctor prescribed a cough syrup and recommended plenty of fluids.'}\n",
      "{0: 'The doctor prescribed a cough syrup and recommended plenty of fluids.'}\n",
      "{0: 'The doctor prescribed a cough syrup and recommended plenty of fluids.'}\n",
      "{0: 'The doctor prescribed a cough syrup and recommended plenty of fluids.'}\n",
      "{0: 'The doctor prescribed a cough syrup and recommended plenty of fluids.'}\n",
      "{0: 'The doctor prescribed a cough syrup and recommended plenty of fluids.'}\n",
      "{0: 'The doctor prescribed a cough syrup and recommended plenty of fluids.'}\n",
      "{0: 'The doctor prescribed a cough syrup and recommended plenty of fluids.'}\n",
      "{0: 'The doctor prescribed a cough syrup and recommended plenty of fluids.'}\n",
      "{0: 'The doctor prescribed a cough syrup and recommended plenty of fluids.'}\n",
      "{0: 'The doctor prescribed a cough syrup and recommended plenty of fluids.'}\n",
      "{0:\n"
     ]
    }
   ],
   "source": [
    "print(generate_response(\"A young child has been experiencing a cough, runny nose, and sneezing for the past two days.\",\"{0: 'The doctor prescribed a cough syrup and advised plenty of fluids', 1: 'The child should avoid exposure to cold temperatures and rest', 2: 'Nasal saline drops can help relieve congestion', 3: 'The doctor recommended a throat swab for a strep test'}\"))"
   ]
  },
  {
   "cell_type": "markdown",
   "metadata": {},
   "source": [
    "Output: 0 (partially) ========= Original: 0"
   ]
  },
  {
   "cell_type": "code",
   "execution_count": 9,
   "metadata": {},
   "outputs": [
    {
     "name": "stdout",
     "output_type": "stream",
     "text": [
      "You are a medical expert who can answer medical related queries. Given the ctx, determine which of the options is correct by doing medical analysis. Answer with only 0,1,2 or 3.\n",
      "\n",
      "ctx: \n",
      "A woman went to an allergist to determine the cause of her frequent allergic reactions and skin rashes.\n",
      "\n",
      "options:\n",
      "{0: 'The allergist suggested conducting an allergy panel test', 1: 'The woman was advised to keep a diary of potential triggers', 2: 'Antihistamine medication can help alleviate symptoms', 3: 'The allergist recommended using hypoallergenic skincare products'}\n",
      "\n",
      "reply: {0: 'The allergist suggested conducting an allergy panel test', 1: 'The allergist recommended hypoallergenic skincare products', 2: 'The allergist recommended hypoallergenic skincare products'}\n",
      "\n",
      "{0: 'The allergist suggested conducting an allergy panel test', 1: 'The allergist recommended hypoallergenic skincare products'}\n",
      "{0: 'The allergist suggested conducting an allergy panel test', 1: 'The allergist recommended hypoallergenic skincare products'}\n",
      "{0: 'The allergist suggested conducting an allergy panel test', 1: 'The allergist recommended hypoallergenic skincare products'}\n",
      "{0: 'The allergist suggested conducting an allergy panel test', 1: 'The allergist recommended hypoallergenic skincare products'}\n",
      "{0: 'The allergist suggested conducting an allergy panel test', 1: 'The allergist recommended hypoallergenic skincare products'}\n",
      "{0: 'The allergist suggested conducting an allergy panel test', 1: 'The allergist recommended hypoallergenic skincare products'}\n",
      "{0: 'The allergist suggested conducting an allergy panel test', 1: 'The allergist recommended hypoallergenic skincare products'}\n",
      "{0: 'The allergist suggested conducting an allergy panel test', 1: 'The allergist recommended hypoallergenic skincare products'}\n",
      "{0: 'The allergist suggested conducting an allergy panel test', 1: 'The allergist recommended hypoallergenic skincare products'}\n",
      "{0: 'The allergist suggested conduct\n"
     ]
    }
   ],
   "source": [
    "print(generate_response(\"A woman went to an allergist to determine the cause of her frequent allergic reactions and skin rashes.\",\"{0: 'The allergist suggested conducting an allergy panel test', 1: 'The woman was advised to keep a diary of potential triggers', 2: 'Antihistamine medication can help alleviate symptoms', 3: 'The allergist recommended using hypoallergenic skincare products'}\"))"
   ]
  },
  {
   "cell_type": "markdown",
   "metadata": {},
   "source": [
    "## XXXXXXXXXX   Does Not follow instruction XXXXXXXXXXXXXXX"
   ]
  },
  {
   "cell_type": "markdown",
   "metadata": {},
   "source": [
    "# Closed"
   ]
  },
  {
   "cell_type": "markdown",
   "metadata": {},
   "source": [
    "Output: 1 ====== Original: 1"
   ]
  },
  {
   "cell_type": "code",
   "execution_count": 21,
   "metadata": {},
   "outputs": [
    {
     "name": "stdout",
     "output_type": "stream",
     "text": [
      "You are a medical expert who can answer medical related queries. Given the ctx, determine which of the options is correct by doing medical analysis. Answer with only 0,1,2 or 3.\n",
      "\n",
      "ctx: \n",
      "The patient visited the clinic for a routine check-up to monitor blood sugar levels and discuss diabetes management.\n",
      "\n",
      "options:\n",
      "{0: 'The doctor recommended regular exercise and a balanced diet', 1: 'The patient should monitor blood sugar levels multiple times a day', 2: 'Insulin injections may be necessary to regulate glucose levels', 3: 'The doctor advised scheduling an appointment with a nutritionist'}\n",
      "\n",
      "reply:0\n"
     ]
    }
   ],
   "source": [
    "print(generate_response(\"The patient visited the clinic for a routine check-up to monitor blood sugar levels and discuss diabetes management.\",\"{0: 'The doctor recommended regular exercise and a balanced diet', 1: 'The patient should monitor blood sugar levels multiple times a day', 2: 'Insulin injections may be necessary to regulate glucose levels', 3: 'The doctor advised scheduling an appointment with a nutritionist'}\"))"
   ]
  },
  {
   "cell_type": "markdown",
   "metadata": {},
   "source": [
    "Output: 0 ====== Original 3"
   ]
  },
  {
   "cell_type": "code",
   "execution_count": 22,
   "metadata": {},
   "outputs": [
    {
     "name": "stdout",
     "output_type": "stream",
     "text": [
      "You are a medical expert who can answer medical related queries. Given the ctx, determine which of the options is correct by doing medical analysis. Answer with only 0,1,2 or 3.\n",
      "\n",
      "ctx: \n",
      "A man with asthma visited the pulmonologist to adjust his medication and address recent breathing difficulties.\n",
      "\n",
      "options:\n",
      "{0: 'The pulmonologist prescribed a stronger bronchodilator for immediate relief', 1: 'The man was advised to use a peak flow meter to monitor lung function', 2: 'Inhaled corticosteroids should be taken daily for long-term control', 3: 'The doctor recommended avoiding triggers such as smoke and pet dander'}\n",
      "\n",
      "reply:2\n"
     ]
    }
   ],
   "source": [
    "print(generate_response(\"A man with asthma visited the pulmonologist to adjust his medication and address recent breathing difficulties.\",\"{0: 'The pulmonologist prescribed a stronger bronchodilator for immediate relief', 1: 'The man was advised to use a peak flow meter to monitor lung function', 2: 'Inhaled corticosteroids should be taken daily for long-term control', 3: 'The doctor recommended avoiding triggers such as smoke and pet dander'}\"))"
   ]
  },
  {
   "cell_type": "markdown",
   "metadata": {},
   "source": [
    "Output: 2 =======  Original 2"
   ]
  },
  {
   "cell_type": "code",
   "execution_count": 23,
   "metadata": {},
   "outputs": [
    {
     "name": "stdout",
     "output_type": "stream",
     "text": [
      "You are a medical expert who can answer medical related queries. Given the ctx, determine which of the options is correct by doing medical analysis. Answer with only 0,1,2 or 3.\n",
      "\n",
      "ctx: \n",
      "A teenager complained of blurry vision and difficulty reading the board at school.\n",
      "\n",
      "options:\n",
      "{0: 'The teenager should undergo an eye exam to check for refractive errors', 1: 'Prescription glasses may be necessary to correct the vision', 2: 'Regular eye exercises can help improve focus and coordination', 3: 'The student was advised to sit closer to the front in the classroom'}\n",
      "\n",
      "reply:1\n"
     ]
    }
   ],
   "source": [
    "print(generate_response(\"A teenager complained of blurry vision and difficulty reading the board at school.\",\"{0: 'The teenager should undergo an eye exam to check for refractive errors', 1: 'Prescription glasses may be necessary to correct the vision', 2: 'Regular eye exercises can help improve focus and coordination', 3: 'The student was advised to sit closer to the front in the classroom'}\"))"
   ]
  },
  {
   "cell_type": "markdown",
   "metadata": {},
   "source": [
    "Output: 1 ===== Original : 1"
   ]
  },
  {
   "cell_type": "code",
   "execution_count": 24,
   "metadata": {},
   "outputs": [
    {
     "name": "stdout",
     "output_type": "stream",
     "text": [
      "You are a medical expert who can answer medical related queries. Given the ctx, determine which of the options is correct by doing medical analysis. Answer with only 0,1,2 or 3.\n",
      "\n",
      "ctx: \n",
      "A person sought advice from a nutritionist to develop a personalized weight loss plan.\n",
      "\n",
      "options:\n",
      "{0: 'The nutritionist recommended a balanced diet with reduced calorie intake', 1: 'Regular physical exercise is essential for weight management', 2: 'Keeping a food journal can help track eating habits', 3: 'The person was advised to set realistic weight loss goals'}\n",
      "\n",
      "reply:0\n"
     ]
    }
   ],
   "source": [
    "print(generate_response(\"A person sought advice from a nutritionist to develop a personalized weight loss plan.\",\"{0: 'The nutritionist recommended a balanced diet with reduced calorie intake', 1: 'Regular physical exercise is essential for weight management', 2: 'Keeping a food journal can help track eating habits', 3: 'The person was advised to set realistic weight loss goals'}\"))"
   ]
  },
  {
   "cell_type": "markdown",
   "metadata": {},
   "source": [
    "Output: 0 ======= Original : 0"
   ]
  },
  {
   "cell_type": "code",
   "execution_count": 25,
   "metadata": {},
   "outputs": [
    {
     "name": "stdout",
     "output_type": "stream",
     "text": [
      "You are a medical expert who can answer medical related queries. Given the ctx, determine which of the options is correct by doing medical analysis. Answer with only 0,1,2 or 3.\n",
      "\n",
      "ctx: \n",
      "The patient visited the dentist for a routine dental examination and cleaning.\n",
      "\n",
      "options:\n",
      "{0: 'The dentist identified a cavity that requires filling', 1: 'Proper brushing and flossing techniques were demonstrated', 2: 'Regular dental check-ups should be scheduled every six months', 3: 'The patient was advised to use a fluoride mouthwash for added protection'}\n",
      "\n",
      "reply:2\n"
     ]
    }
   ],
   "source": [
    "print(generate_response(\"The patient visited the dentist for a routine dental examination and cleaning.\",\"{0: 'The dentist identified a cavity that requires filling', 1: 'Proper brushing and flossing techniques were demonstrated', 2: 'Regular dental check-ups should be scheduled every six months', 3: 'The patient was advised to use a fluoride mouthwash for added protection'}\"))"
   ]
  },
  {
   "cell_type": "markdown",
   "metadata": {},
   "source": [
    "Output: 2 ======  Original: 2"
   ]
  },
  {
   "cell_type": "code",
   "execution_count": 26,
   "metadata": {},
   "outputs": [
    {
     "name": "stdout",
     "output_type": "stream",
     "text": [
      "You are a medical expert who can answer medical related queries. Given the ctx, determine which of the options is correct by doing medical analysis. Answer with only 0,1,2 or 3.\n",
      "\n",
      "ctx: \n",
      "A person sought therapy to address anxiety and depression symptoms affecting their daily life.\n",
      "\n",
      "options:\n",
      "{0: 'The therapist recommended cognitive-behavioral therapy sessions', 1: 'Medication options were discussed for managing symptoms', 2: 'Practicing mindfulness and relaxation techniques can help reduce anxiety', 3: 'The person was advised to reach out to a support group for additional assistance'}\n",
      "\n",
      "reply:1\n"
     ]
    }
   ],
   "source": [
    "print(generate_response(\"A person sought therapy to address anxiety and depression symptoms affecting their daily life.\",\"{0: 'The therapist recommended cognitive-behavioral therapy sessions', 1: 'Medication options were discussed for managing symptoms', 2: 'Practicing mindfulness and relaxation techniques can help reduce anxiety', 3: 'The person was advised to reach out to a support group for additional assistance'}\"))"
   ]
  },
  {
   "cell_type": "markdown",
   "metadata": {},
   "source": [
    "Output: 1 ========= Original : 1"
   ]
  },
  {
   "cell_type": "code",
   "execution_count": 27,
   "metadata": {},
   "outputs": [
    {
     "name": "stdout",
     "output_type": "stream",
     "text": [
      "You are a medical expert who can answer medical related queries. Given the ctx, determine which of the options is correct by doing medical analysis. Answer with only 0,1,2 or 3.\n",
      "\n",
      "ctx: \n",
      "A patient visited a dermatologist with concerns about a persistent rash on their face.\n",
      "\n",
      "options:\n",
      "{0: 'The dermatologist prescribed a topical corticosteroid for the rash', 1: 'Avoiding harsh skincare products and irritants is recommended', 2: 'Allergy testing may be necessary to identify potential triggers', 3: 'The patient was advised to protect the skin from excessive sun exposure'}\n",
      "\n",
      "reply:1\n"
     ]
    }
   ],
   "source": [
    "print(generate_response(\"A patient visited a dermatologist with concerns about a persistent rash on their face.\",\"{0: 'The dermatologist prescribed a topical corticosteroid for the rash', 1: 'Avoiding harsh skincare products and irritants is recommended', 2: 'Allergy testing may be necessary to identify potential triggers', 3: 'The patient was advised to protect the skin from excessive sun exposure'}\"))"
   ]
  },
  {
   "cell_type": "markdown",
   "metadata": {},
   "source": [
    "Output: 1 ======= Original: 0"
   ]
  },
  {
   "cell_type": "code",
   "execution_count": 28,
   "metadata": {},
   "outputs": [
    {
     "name": "stdout",
     "output_type": "stream",
     "text": [
      "You are a medical expert who can answer medical related queries. Given the ctx, determine which of the options is correct by doing medical analysis. Answer with only 0,1,2 or 3.\n",
      "\n",
      "ctx: \n",
      "An individual consulted a gastroenterologist regarding recurring stomach pain and digestion problems.\n",
      "\n",
      "options:\n",
      "{0: 'The gastroenterologist recommended a comprehensive digestive system evaluation', 1: 'Dietary changes such as reducing spicy foods can alleviate symptoms', 2: 'Medication for acid reflux was prescribed', 3: 'The individual was advised to increase fiber intake for better digestion'}\n",
      "\n",
      "reply:1\n"
     ]
    }
   ],
   "source": [
    "print(generate_response(\"An individual consulted a gastroenterologist regarding recurring stomach pain and digestion problems.\",\"{0: 'The gastroenterologist recommended a comprehensive digestive system evaluation', 1: 'Dietary changes such as reducing spicy foods can alleviate symptoms', 2: 'Medication for acid reflux was prescribed', 3: 'The individual was advised to increase fiber intake for better digestion'}\"))"
   ]
  },
  {
   "cell_type": "markdown",
   "metadata": {},
   "source": [
    "Output : 1 ======= Original : 2"
   ]
  },
  {
   "cell_type": "code",
   "execution_count": 29,
   "metadata": {},
   "outputs": [
    {
     "name": "stdout",
     "output_type": "stream",
     "text": [
      "You are a medical expert who can answer medical related queries. Given the ctx, determine which of the options is correct by doing medical analysis. Answer with only 0,1,2 or 3.\n",
      "\n",
      "ctx: \n",
      "A person visited the orthopedic clinic with a suspected fracture in their arm after a fall.\n",
      "\n",
      "options:\n",
      "{0: 'An X-ray was performed to confirm the fracture and determine its severity', 1: 'Immobilizing the arm with a cast is necessary for proper healing', 2: 'Pain medication was prescribed to manage discomfort', 3: 'Physical therapy sessions were recommended to regain strength and mobility'}\n",
      "\n",
      "reply:1\n"
     ]
    }
   ],
   "source": [
    "print(generate_response(\"A person visited the orthopedic clinic with a suspected fracture in their arm after a fall.\",\"{0: 'An X-ray was performed to confirm the fracture and determine its severity', 1: 'Immobilizing the arm with a cast is necessary for proper healing', 2: 'Pain medication was prescribed to manage discomfort', 3: 'Physical therapy sessions were recommended to regain strength and mobility'}\"))"
   ]
  },
  {
   "cell_type": "markdown",
   "metadata": {},
   "source": [
    "Output : 1 ========== Original : 1"
   ]
  },
  {
   "cell_type": "code",
   "execution_count": 30,
   "metadata": {},
   "outputs": [
    {
     "name": "stdout",
     "output_type": "stream",
     "text": [
      "You are a medical expert who can answer medical related queries. Given the ctx, determine which of the options is correct by doing medical analysis. Answer with only 0,1,2 or 3.\n",
      "\n",
      "ctx: \n",
      "A patient sought help from a sleep specialist due to chronic insomnia and difficulty falling asleep.\n",
      "\n",
      "options:\n",
      "{0: 'The sleep specialist suggested a sleep study to evaluate sleep patterns', 1: 'Sleep hygiene practices such as a consistent bedtime routine were recommended', 2: 'Prescription medication can be considered for short-term relief', 3: 'The patient was advised to limit caffeine intake and avoid electronics before bed'}\n",
      "\n",
      "reply:1\n"
     ]
    }
   ],
   "source": [
    "print(generate_response(\"A patient sought help from a sleep specialist due to chronic insomnia and difficulty falling asleep.\",\"{0: 'The sleep specialist suggested a sleep study to evaluate sleep patterns', 1: 'Sleep hygiene practices such as a consistent bedtime routine were recommended', 2: 'Prescription medication can be considered for short-term relief', 3: 'The patient was advised to limit caffeine intake and avoid electronics before bed'}\"))"
   ]
  },
  {
   "cell_type": "markdown",
   "metadata": {},
   "source": [
    "Output: 1 ========== Original : 3"
   ]
  },
  {
   "cell_type": "code",
   "execution_count": 31,
   "metadata": {},
   "outputs": [
    {
     "name": "stdout",
     "output_type": "stream",
     "text": [
      "You are a medical expert who can answer medical related queries. Given the ctx, determine which of the options is correct by doing medical analysis. Answer with only 0,1,2 or 3.\n",
      "\n",
      "ctx: \n",
      "A parent had questions about the recommended vaccination schedule for their newborn baby.\n",
      "\n",
      "options:\n",
      "{0: 'The pediatrician explained the importance of vaccines for the baby's immune system', 1: 'A vaccination chart was provided with the recommended schedule', 2: 'Possible side effects and their rarity were discussed', 3: 'The parent was advised to keep a record of the vaccinations received'}\n",
      "\n",
      "reply:1\n"
     ]
    }
   ],
   "source": [
    "print(generate_response(\"A parent had questions about the recommended vaccination schedule for their newborn baby.\", \"{0: 'The pediatrician explained the importance of vaccines for the baby's immune system', 1: 'A vaccination chart was provided with the recommended schedule', 2: 'Possible side effects and their rarity were discussed', 3: 'The parent was advised to keep a record of the vaccinations received'}\"))"
   ]
  },
  {
   "cell_type": "markdown",
   "metadata": {},
   "source": [
    "Output : 1 ========== Original : 2"
   ]
  },
  {
   "cell_type": "code",
   "execution_count": 32,
   "metadata": {},
   "outputs": [
    {
     "name": "stdout",
     "output_type": "stream",
     "text": [
      "You are a medical expert who can answer medical related queries. Given the ctx, determine which of the options is correct by doing medical analysis. Answer with only 0,1,2 or 3.\n",
      "\n",
      "ctx: \n",
      "An individual visited a cardiologist for a check-up to assess heart health and discuss preventive measures.\n",
      "\n",
      "options:\n",
      "{0: 'The cardiologist recommended regular cardiovascular exercise', 1: 'A heart-healthy diet low in saturated fats is essential', 2: 'Monitoring blood pressure regularly can help identify potential issues', 3: 'The individual was advised to quit smoking for better heart health'}\n",
      "\n",
      "reply:1\n"
     ]
    }
   ],
   "source": [
    "print(generate_response(\"An individual visited a cardiologist for a check-up to assess heart health and discuss preventive measures.\",\"{0: 'The cardiologist recommended regular cardiovascular exercise', 1: 'A heart-healthy diet low in saturated fats is essential', 2: 'Monitoring blood pressure regularly can help identify potential issues', 3: 'The individual was advised to quit smoking for better heart health'}\"))"
   ]
  },
  {
   "cell_type": "markdown",
   "metadata": {},
   "source": [
    "Output : 3 ========= Original : 1"
   ]
  },
  {
   "cell_type": "markdown",
   "metadata": {},
   "source": [
    "# Result of medalpaca 7b \n",
    "\n",
    "Total examples: 15 \n",
    "Correct Answers: 7\n",
    "Wrong Answers : 8 "
   ]
  }
 ],
 "metadata": {
  "kernelspec": {
   "display_name": "medalpaca",
   "language": "python",
   "name": "python3"
  },
  "language_info": {
   "codemirror_mode": {
    "name": "ipython",
    "version": 3
   },
   "file_extension": ".py",
   "mimetype": "text/x-python",
   "name": "python",
   "nbconvert_exporter": "python",
   "pygments_lexer": "ipython3",
   "version": "3.9.0"
  },
  "orig_nbformat": 4
 },
 "nbformat": 4,
 "nbformat_minor": 2
}
